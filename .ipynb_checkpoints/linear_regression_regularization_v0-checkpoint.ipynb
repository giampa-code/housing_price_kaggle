{
 "cells": [
  {
   "cell_type": "markdown",
   "id": "5c0c5014",
   "metadata": {},
   "source": [
    "## Kaggle score: 18322 (The lower the better)"
   ]
  },
  {
   "cell_type": "markdown",
   "id": "f488bec6",
   "metadata": {},
   "source": [
    "# Libraries"
   ]
  },
  {
   "cell_type": "code",
   "execution_count": 1,
   "id": "87890828",
   "metadata": {},
   "outputs": [],
   "source": [
    "import numpy as np\n",
    "import pandas as pd\n",
    "import os\n",
    "import matplotlib.pyplot as plt\n",
    "\n",
    "from sklearn.model_selection import train_test_split\n",
    "from sklearn.metrics import accuracy_score,r2_score,mean_squared_error,mean_absolute_error,auc,roc_curve,confusion_matrix\n",
    "from sklearn.linear_model import LinearRegression, Ridge"
   ]
  },
  {
   "cell_type": "code",
   "execution_count": 14,
   "id": "7ce47330",
   "metadata": {},
   "outputs": [],
   "source": [
    "train = pd.read_csv('/home/giampa95/programming/DS/housing_price_kaggle/train_fe_v0.csv')\n",
    "test = pd.read_csv('/home/giampa95/programming/DS/housing_price_kaggle/test_fe_v0.csv')"
   ]
  },
  {
   "cell_type": "markdown",
   "id": "cd0e5417",
   "metadata": {},
   "source": [
    "# Fit model"
   ]
  },
  {
   "cell_type": "markdown",
   "id": "9257cb29",
   "metadata": {},
   "source": [
    "# Define predictors and target"
   ]
  },
  {
   "cell_type": "code",
   "execution_count": 68,
   "id": "981ebd5b",
   "metadata": {},
   "outputs": [],
   "source": [
    "# Converto to numpy\n",
    "x_columns = train.columns.drop(['SalePrice','Unnamed: 0' ])\n",
    "x = train[x_columns].values\n",
    "y = train['SalePrice'].values\n"
   ]
  },
  {
   "cell_type": "markdown",
   "id": "e66019b6",
   "metadata": {},
   "source": [
    "## Split data"
   ]
  },
  {
   "cell_type": "code",
   "execution_count": 69,
   "id": "70dfdf15",
   "metadata": {},
   "outputs": [],
   "source": [
    "# Create train/test\n",
    "x_train, x_test, y_train, y_test = train_test_split(    \n",
    "    x, y, test_size=0.4, random_state=5)"
   ]
  },
  {
   "cell_type": "markdown",
   "id": "30bdc573",
   "metadata": {},
   "source": [
    "# Model"
   ]
  },
  {
   "cell_type": "code",
   "execution_count": 70,
   "id": "56464000",
   "metadata": {},
   "outputs": [
    {
     "data": {
      "text/plain": [
       "Ridge(alpha=1)"
      ]
     },
     "execution_count": 70,
     "metadata": {},
     "output_type": "execute_result"
    }
   ],
   "source": [
    "model = Ridge(alpha=1)\n",
    "\n",
    "model.fit(x_train,y_train)"
   ]
  },
  {
   "cell_type": "code",
   "execution_count": 71,
   "id": "a93295b1",
   "metadata": {},
   "outputs": [],
   "source": [
    "y_pred = model.predict(x_test)\n",
    "R2 = r2_score(y_test,y_pred)\n",
    "MAE = mean_absolute_error(y_test,y_pred)\n",
    "MSE = mean_squared_error(y_test,y_pred)"
   ]
  },
  {
   "cell_type": "code",
   "execution_count": 72,
   "id": "c5535836",
   "metadata": {},
   "outputs": [
    {
     "name": "stdout",
     "output_type": "stream",
     "text": [
      "R2 = 0.847 and MAE = 21553.809\n"
     ]
    }
   ],
   "source": [
    "print(f'R2 = {round(R2,3)} and MAE = {round(MAE,3)}')"
   ]
  },
  {
   "cell_type": "code",
   "execution_count": 74,
   "id": "5c56ee37",
   "metadata": {},
   "outputs": [
    {
     "data": {
      "text/plain": [
       "array([-46903.21759349,  -6175.20481979,  -4000.50067185,  -3324.47752384,\n",
       "         9935.31618808,   4597.69364202,   2286.355713  ,  18035.28656434,\n",
       "        43160.99785658,   6565.277859  ,    965.22741166,  63320.12939151,\n",
       "        -1843.04166419, -53511.16617076, -23907.57470389,   -262.40362574,\n",
       "        89149.91971588,  35444.41816421, -10616.32771523,  -2786.8442139 ,\n",
       "        15286.0313672 ,  36812.70774693,  -1756.74506409,   9713.06059616,\n",
       "        -3431.140882  ,  27438.02427467,  14035.87788479,  -4791.70509995,\n",
       "          332.37436811,  28394.28048708, -14618.7561189 ,  22591.40197118,\n",
       "        -4061.15463254,  26879.88953   ,   8173.11962372,   2888.01548512,\n",
       "       -13978.26277339,  20182.2928795 ,  10900.72750337,   8859.60026968,\n",
       "        -1248.53208702, -12606.4802355 ,  57308.31364722,  36579.43405367,\n",
       "        -2731.12455851,  60987.93499388,  22792.45310941,  -8065.83817322,\n",
       "        15482.09965968,   8740.54136102, -38630.70272001, -25273.1778845 ,\n",
       "        43888.47322584,  67648.59489275,   7621.4407107 ,  12680.25666029,\n",
       "          451.06467007,  -7236.68369172, -26079.53886812,   6882.6115725 ,\n",
       "        52737.73745131,   1306.90107899,  20928.86957206,  -2123.40832919,\n",
       "         -376.70535767,  18779.14353622,   -833.19112084,   2784.26851409,\n",
       "          256.60754936,  45075.68859362, -36096.86725119,  91861.68892057,\n",
       "         -882.68125185, -10016.16249839,  -1811.45995498,  -3501.28424505,\n",
       "         1065.10832725,  20046.70084051,   9159.43839207])"
      ]
     },
     "execution_count": 74,
     "metadata": {},
     "output_type": "execute_result"
    }
   ],
   "source": [
    "model.coef_"
   ]
  },
  {
   "cell_type": "markdown",
   "id": "3ef0e9e9",
   "metadata": {},
   "source": [
    "## mean R2"
   ]
  },
  {
   "cell_type": "code",
   "execution_count": 75,
   "id": "b0a7f5e0",
   "metadata": {},
   "outputs": [
    {
     "name": "stdout",
     "output_type": "stream",
     "text": [
      "0.7800434437987762\n"
     ]
    },
    {
     "data": {
      "image/png": "[encoded data removed]",
      "text/plain": [
       "<Figure size 432x288 with 1 Axes>"
      ]
     },
     "metadata": {
      "needs_background": "light"
     },
     "output_type": "display_data"
    }
   ],
   "source": [
    "R2s = list()\n",
    "MAEs = list()\n",
    "for i in range(3,10):\n",
    "    # Create train/test\n",
    "    x_train, x_test, y_train, y_test = train_test_split(    \n",
    "        x, y, test_size=0.4, random_state=i)\n",
    "    # start model\n",
    "    model = LinearRegression()\n",
    "    # fit model\n",
    "    model.fit(x_train,y_train)\n",
    "    # predictions\n",
    "    y_pred = model.predict(x_test)\n",
    "    R2 = r2_score(y_test,y_pred)\n",
    "    MAE = mean_absolute_error(y_test,y_pred)\n",
    "    R2s.append(R2)\n",
    "    MAEs.append(MAE)\n",
    "plt.plot(R2s)\n",
    "print(np.mean(R2s))"
   ]
  },
  {
   "cell_type": "markdown",
   "id": "ac2e87e7",
   "metadata": {},
   "source": [
    "# Making predictions"
   ]
  },
  {
   "cell_type": "code",
   "execution_count": 76,
   "id": "b2796704",
   "metadata": {},
   "outputs": [
    {
     "data": {
      "text/html": [
       "<div>\n",
       "<style scoped>\n",
       "    .dataframe tbody tr th:only-of-type {\n",
       "        vertical-align: middle;\n",
       "    }\n",
       "\n",
       "    .dataframe tbody tr th {\n",
       "        vertical-align: top;\n",
       "    }\n",
       "\n",
       "    .dataframe thead th {\n",
       "        text-align: right;\n",
       "    }\n",
       "</style>\n",
       "<table border=\"1\" class=\"dataframe\">\n",
       "  <thead>\n",
       "    <tr style=\"text-align: right;\">\n",
       "      <th></th>\n",
       "      <th>Unnamed: 0</th>\n",
       "      <th>Id</th>\n",
       "      <th>MSSubClass</th>\n",
       "      <th>MSZoning</th>\n",
       "      <th>LotFrontage</th>\n",
       "      <th>LotArea</th>\n",
       "      <th>Street</th>\n",
       "      <th>Alley</th>\n",
       "      <th>LotShape</th>\n",
       "      <th>LandContour</th>\n",
       "      <th>...</th>\n",
       "      <th>ScreenPorch</th>\n",
       "      <th>PoolArea</th>\n",
       "      <th>PoolQC</th>\n",
       "      <th>Fence</th>\n",
       "      <th>MiscFeature</th>\n",
       "      <th>MiscVal</th>\n",
       "      <th>MoSold</th>\n",
       "      <th>YrSold</th>\n",
       "      <th>SaleType</th>\n",
       "      <th>SaleCondition</th>\n",
       "    </tr>\n",
       "  </thead>\n",
       "  <tbody>\n",
       "    <tr>\n",
       "      <th>0</th>\n",
       "      <td>0</td>\n",
       "      <td>1461</td>\n",
       "      <td>-56.815502</td>\n",
       "      <td>-2.210544</td>\n",
       "      <td>-57.368806</td>\n",
       "      <td>-10507.754086</td>\n",
       "      <td>0.004135</td>\n",
       "      <td>-0.903515</td>\n",
       "      <td>-0.430737</td>\n",
       "      <td>-0.716977</td>\n",
       "      <td>...</td>\n",
       "      <td>-14.904376</td>\n",
       "      <td>-2.776017</td>\n",
       "      <td>-0.008959</td>\n",
       "      <td>-3.100965</td>\n",
       "      <td>-2.177636</td>\n",
       "      <td>-43.758787</td>\n",
       "      <td>-5.773636</td>\n",
       "      <td>-1505.3153</td>\n",
       "      <td>-3.777739</td>\n",
       "      <td>-3.029083</td>\n",
       "    </tr>\n",
       "    <tr>\n",
       "      <th>1</th>\n",
       "      <td>1</td>\n",
       "      <td>1462</td>\n",
       "      <td>-56.815502</td>\n",
       "      <td>-1.960544</td>\n",
       "      <td>-57.365611</td>\n",
       "      <td>-10507.741723</td>\n",
       "      <td>0.004135</td>\n",
       "      <td>-0.903515</td>\n",
       "      <td>-0.097404</td>\n",
       "      <td>-0.716977</td>\n",
       "      <td>...</td>\n",
       "      <td>-15.154376</td>\n",
       "      <td>-2.776017</td>\n",
       "      <td>-0.008959</td>\n",
       "      <td>-2.600965</td>\n",
       "      <td>-2.427636</td>\n",
       "      <td>-42.952335</td>\n",
       "      <td>-5.773636</td>\n",
       "      <td>-1505.3153</td>\n",
       "      <td>-3.777739</td>\n",
       "      <td>-3.029083</td>\n",
       "    </tr>\n",
       "    <tr>\n",
       "      <th>2</th>\n",
       "      <td>2</td>\n",
       "      <td>1463</td>\n",
       "      <td>-56.580208</td>\n",
       "      <td>-1.960544</td>\n",
       "      <td>-57.387975</td>\n",
       "      <td>-10507.743765</td>\n",
       "      <td>0.004135</td>\n",
       "      <td>-0.903515</td>\n",
       "      <td>-0.097404</td>\n",
       "      <td>-0.716977</td>\n",
       "      <td>...</td>\n",
       "      <td>-15.154376</td>\n",
       "      <td>-2.776017</td>\n",
       "      <td>-0.008959</td>\n",
       "      <td>-3.100965</td>\n",
       "      <td>-2.177636</td>\n",
       "      <td>-43.758787</td>\n",
       "      <td>-6.046363</td>\n",
       "      <td>-1505.3153</td>\n",
       "      <td>-3.777739</td>\n",
       "      <td>-3.029083</td>\n",
       "    </tr>\n",
       "    <tr>\n",
       "      <th>3</th>\n",
       "      <td>3</td>\n",
       "      <td>1464</td>\n",
       "      <td>-56.580208</td>\n",
       "      <td>-1.960544</td>\n",
       "      <td>-57.375196</td>\n",
       "      <td>-10507.761770</td>\n",
       "      <td>0.004135</td>\n",
       "      <td>-0.903515</td>\n",
       "      <td>-0.097404</td>\n",
       "      <td>-0.716977</td>\n",
       "      <td>...</td>\n",
       "      <td>-15.154376</td>\n",
       "      <td>-2.776017</td>\n",
       "      <td>-0.008959</td>\n",
       "      <td>-2.600965</td>\n",
       "      <td>-2.177636</td>\n",
       "      <td>-43.758787</td>\n",
       "      <td>-5.773636</td>\n",
       "      <td>-1505.3153</td>\n",
       "      <td>-3.777739</td>\n",
       "      <td>-3.029083</td>\n",
       "    </tr>\n",
       "    <tr>\n",
       "      <th>4</th>\n",
       "      <td>4</td>\n",
       "      <td>1465</td>\n",
       "      <td>-56.227267</td>\n",
       "      <td>-1.960544</td>\n",
       "      <td>-57.487017</td>\n",
       "      <td>-10507.785014</td>\n",
       "      <td>0.004135</td>\n",
       "      <td>-0.903515</td>\n",
       "      <td>-0.097404</td>\n",
       "      <td>-0.050310</td>\n",
       "      <td>...</td>\n",
       "      <td>-14.854376</td>\n",
       "      <td>-2.776017</td>\n",
       "      <td>-0.008959</td>\n",
       "      <td>-2.600965</td>\n",
       "      <td>-2.177636</td>\n",
       "      <td>-43.758787</td>\n",
       "      <td>-6.228181</td>\n",
       "      <td>-1505.3153</td>\n",
       "      <td>-3.777739</td>\n",
       "      <td>-3.029083</td>\n",
       "    </tr>\n",
       "  </tbody>\n",
       "</table>\n",
       "<p>5 rows × 81 columns</p>\n",
       "</div>"
      ],
      "text/plain": [
       "   Unnamed: 0    Id  MSSubClass  MSZoning  LotFrontage       LotArea  \\\n",
       "0           0  1461  -56.815502 -2.210544   -57.368806 -10507.754086   \n",
       "1           1  1462  -56.815502 -1.960544   -57.365611 -10507.741723   \n",
       "2           2  1463  -56.580208 -1.960544   -57.387975 -10507.743765   \n",
       "3           3  1464  -56.580208 -1.960544   -57.375196 -10507.761770   \n",
       "4           4  1465  -56.227267 -1.960544   -57.487017 -10507.785014   \n",
       "\n",
       "     Street     Alley  LotShape  LandContour  ...  ScreenPorch  PoolArea  \\\n",
       "0  0.004135 -0.903515 -0.430737    -0.716977  ...   -14.904376 -2.776017   \n",
       "1  0.004135 -0.903515 -0.097404    -0.716977  ...   -15.154376 -2.776017   \n",
       "2  0.004135 -0.903515 -0.097404    -0.716977  ...   -15.154376 -2.776017   \n",
       "3  0.004135 -0.903515 -0.097404    -0.716977  ...   -15.154376 -2.776017   \n",
       "4  0.004135 -0.903515 -0.097404    -0.050310  ...   -14.854376 -2.776017   \n",
       "\n",
       "     PoolQC     Fence  MiscFeature    MiscVal    MoSold     YrSold  SaleType  \\\n",
       "0 -0.008959 -3.100965    -2.177636 -43.758787 -5.773636 -1505.3153 -3.777739   \n",
       "1 -0.008959 -2.600965    -2.427636 -42.952335 -5.773636 -1505.3153 -3.777739   \n",
       "2 -0.008959 -3.100965    -2.177636 -43.758787 -6.046363 -1505.3153 -3.777739   \n",
       "3 -0.008959 -2.600965    -2.177636 -43.758787 -5.773636 -1505.3153 -3.777739   \n",
       "4 -0.008959 -2.600965    -2.177636 -43.758787 -6.228181 -1505.3153 -3.777739   \n",
       "\n",
       "   SaleCondition  \n",
       "0      -3.029083  \n",
       "1      -3.029083  \n",
       "2      -3.029083  \n",
       "3      -3.029083  \n",
       "4      -3.029083  \n",
       "\n",
       "[5 rows x 81 columns]"
      ]
     },
     "execution_count": 76,
     "metadata": {},
     "output_type": "execute_result"
    }
   ],
   "source": [
    "test.head()"
   ]
  },
  {
   "cell_type": "code",
   "execution_count": 77,
   "id": "584b2a8f",
   "metadata": {},
   "outputs": [
    {
     "data": {
      "text/plain": [
       "0       1461\n",
       "1       1462\n",
       "2       1463\n",
       "3       1464\n",
       "4       1465\n",
       "        ... \n",
       "1454    2915\n",
       "1455    2916\n",
       "1456    2917\n",
       "1457    2918\n",
       "1458    2919\n",
       "Name: Id, Length: 1459, dtype: int64"
      ]
     },
     "execution_count": 77,
     "metadata": {},
     "output_type": "execute_result"
    }
   ],
   "source": [
    "x_ids = test['Id']\n",
    "test_columns = test.columns.drop(['Unnamed: 0','Id'])\n",
    "x_test_2 = test[test_columns].values\n",
    "\n",
    "x_ids\n"
   ]
  },
  {
   "cell_type": "code",
   "execution_count": 78,
   "id": "8780a8f9",
   "metadata": {},
   "outputs": [
    {
     "name": "stdout",
     "output_type": "stream",
     "text": [
      "<class 'pandas.core.frame.DataFrame'>\n",
      "RangeIndex: 1459 entries, 0 to 1458\n",
      "Data columns (total 2 columns):\n",
      " #   Column     Non-Null Count  Dtype  \n",
      "---  ------     --------------  -----  \n",
      " 0   Id         1459 non-null   int64  \n",
      " 1   SalePrice  1459 non-null   float64\n",
      "dtypes: float64(1), int64(1)\n",
      "memory usage: 22.9 KB\n"
     ]
    }
   ],
   "source": [
    "y_pred_2 = model.predict(x_test_2)\n",
    "\n",
    "final=pd.DataFrame(data={'Id':x_ids,'SalePrice':y_pred_2})\n",
    "final.info()"
   ]
  },
  {
   "cell_type": "code",
   "execution_count": 79,
   "id": "10dd3ff3",
   "metadata": {},
   "outputs": [],
   "source": [
    "# Run the code to save predictions in the format used for competition scoring\n",
    "\n",
    "final.to_csv('submission_regression.csv',index=False)"
   ]
  },
  {
   "cell_type": "markdown",
   "id": "94b8e440",
   "metadata": {},
   "source": [
    "# Looking for the best regularization parameter"
   ]
  },
  {
   "cell_type": "code",
   "execution_count": 80,
   "id": "3eb986dc",
   "metadata": {},
   "outputs": [
    {
     "name": "stdout",
     "output_type": "stream",
     "text": [
      "0.8369006919200094\n"
     ]
    },
    {
     "data": {
      "image/png": "[encoded data removed]",
      "text/plain": [
       "<Figure size 720x360 with 1 Axes>"
      ]
     },
     "metadata": {
      "needs_background": "light"
     },
     "output_type": "display_data"
    },
    {
     "data": {
      "image/png": "[encoded data removed]",
      "text/plain": [
       "<Figure size 720x360 with 1 Axes>"
      ]
     },
     "metadata": {
      "needs_background": "light"
     },
     "output_type": "display_data"
    }
   ],
   "source": [
    "# spliting data\n",
    "# Create train/test\n",
    "x_train, x_test, y_train, y_test = train_test_split(    \n",
    "    x, y, test_size=0.4, random_state=5)\n",
    "\n",
    "lambdas = [0.01, 0.03, 0.1, 0.3, 1, 3, 10, 30] \n",
    "\n",
    "R2s = list()\n",
    "MAEs = list()\n",
    "\n",
    "for i in lambdas:\n",
    "    #model\n",
    "    model = Ridge(alpha=i)\n",
    "    model.fit(x_train,y_train)\n",
    "    #metrics\n",
    "    y_pred = model.predict(x_test)\n",
    "    R2 = r2_score(y_test,y_pred)\n",
    "    MAE = mean_absolute_error(y_test,y_pred)\n",
    "    R2s.append(R2)\n",
    "    MAEs.append(MAE)\n",
    "\n",
    "print(np.mean(R2s))\n",
    "    \n",
    "# Plot R2\n",
    "plt.figure(figsize=(10,5));    \n",
    "plt.plot(lambdas,R2s,'-o');\n",
    "plt.xlabel(\"lambda\");\n",
    "plt.ylabel(\"R2\");\n",
    "plt.title(\"R2 score varying regularization parameter\");\n",
    "plt.grid(True, which=\"both\", ls=\"-\");\n",
    "plt.semilogx();\n",
    "\n",
    "# Plot MAEs\n",
    "plt.figure(figsize=(10,5));\n",
    "plt.plot(lambdas,MAEs,'-o');\n",
    "plt.xlabel(\"lambda\");\n",
    "plt.ylabel(\"MAE\");\n",
    "plt.title(\"MAE score varying regularization parameter\");\n",
    "plt.grid(True, which=\"both\", ls=\"-\");\n",
    "plt.semilogx();"
   ]
  },
  {
   "cell_type": "code",
   "execution_count": 82,
   "id": "9cc8f476",
   "metadata": {},
   "outputs": [
    {
     "name": "stdout",
     "output_type": "stream",
     "text": [
      "0.8426547989336782\n"
     ]
    },
    {
     "data": {
      "image/png": "[encoded data removed]",
      "text/plain": [
       "<Figure size 720x360 with 1 Axes>"
      ]
     },
     "metadata": {
      "needs_background": "light"
     },
     "output_type": "display_data"
    },
    {
     "data": {
      "image/png": "[encoded data removed]",
      "text/plain": [
       "<Figure size 720x360 with 1 Axes>"
      ]
     },
     "metadata": {
      "needs_background": "light"
     },
     "output_type": "display_data"
    }
   ],
   "source": [
    "# spliting data\n",
    "# Create train/test\n",
    "x_train, x_test, y_train, y_test = train_test_split(    \n",
    "    x, y, test_size=0.4, random_state=5)\n",
    "\n",
    "lambdas = [1, 2,3,4,5,6,7,8,9,10,11,12,13,14,15,16,17,18,19,20] \n",
    "\n",
    "R2s = list()\n",
    "MAEs = list()\n",
    "\n",
    "for i in lambdas:\n",
    "    #model\n",
    "    model = Ridge(alpha=i)\n",
    "    model.fit(x_train,y_train)\n",
    "    #metrics\n",
    "    y_pred = model.predict(x_test)\n",
    "    R2 = r2_score(y_test,y_pred)\n",
    "    MAE = mean_absolute_error(y_test,y_pred)\n",
    "    R2s.append(R2)\n",
    "    MAEs.append(MAE)\n",
    "\n",
    "print(np.mean(R2s))\n",
    "    \n",
    "# Plot R2\n",
    "plt.figure(figsize=(10,5));    \n",
    "plt.plot(lambdas,R2s,'-o');\n",
    "plt.xlabel(\"lambda\");\n",
    "plt.ylabel(\"R2\");\n",
    "plt.title(\"R2 score varying regularization parameter\");\n",
    "plt.grid(True, which=\"both\", ls=\"-\");\n",
    "plt.semilogx();\n",
    "\n",
    "# Plot MAEs\n",
    "plt.figure(figsize=(10,5));\n",
    "plt.plot(lambdas,MAEs,'-o');\n",
    "plt.xlabel(\"lambda\");\n",
    "plt.ylabel(\"MAE\");\n",
    "plt.title(\"MAE score varying regularization parameter\");\n",
    "plt.grid(True, which=\"both\", ls=\"-\");\n",
    "plt.semilogx();"
   ]
  },
  {
   "cell_type": "code",
   "execution_count": null,
   "id": "98cc281d",
   "metadata": {},
   "outputs": [],
   "source": []
  }
 ],
 "metadata": {
  "kernelspec": {
   "display_name": "Python 3 (ipykernel)",
   "language": "python",
   "name": "python3"
  },
  "language_info": {
   "codemirror_mode": {
    "name": "ipython",
    "version": 3
   },
   "file_extension": ".py",
   "mimetype": "text/x-python",
   "name": "python",
   "nbconvert_exporter": "python",
   "pygments_lexer": "ipython3",
   "version": "3.9.7"
  }
 },
 "nbformat": 4,
 "nbformat_minor": 5
}
