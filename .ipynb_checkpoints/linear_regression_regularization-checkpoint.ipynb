{
 "cells": [
  {
   "cell_type": "markdown",
   "id": "f488bec6",
   "metadata": {},
   "source": [
    "# Libraries"
   ]
  },
  {
   "cell_type": "code",
   "execution_count": 16,
   "id": "87890828",
   "metadata": {},
   "outputs": [],
   "source": [
    "import numpy as np\n",
    "import pandas as pd\n",
    "import os\n",
    "import matplotlib.pyplot as plt\n",
    "\n",
    "from sklearn.model_selection import train_test_split\n",
    "from sklearn.metrics import accuracy_score,r2_score,mean_squared_error,mean_absolute_error,auc,roc_curve,confusion_matrix\n",
    "from sklearn.linear_model import LinearRegression"
   ]
  },
  {
   "cell_type": "code",
   "execution_count": 17,
   "id": "7ce47330",
   "metadata": {},
   "outputs": [],
   "source": [
    "train = pd.read_csv('/home/giampa95/programming/DS/housing_price_kaggle/train_fe_v0.csv')\n",
    "test = pd.read_csv('/home/giampa95/programming/DS/housing_price_kaggle/test_fe_v0.csv')"
   ]
  },
  {
   "cell_type": "markdown",
   "id": "cd0e5417",
   "metadata": {},
   "source": [
    "# Fit model"
   ]
  },
  {
   "cell_type": "markdown",
   "id": "9257cb29",
   "metadata": {},
   "source": [
    "# Define predictors and target"
   ]
  },
  {
   "cell_type": "code",
   "execution_count": 18,
   "id": "981ebd5b",
   "metadata": {},
   "outputs": [],
   "source": [
    "# Converto to numpy\n",
    "x_columns = train.columns.drop(['SalePrice','Unnamed: 0' ])\n",
    "x = train[x_columns].values\n",
    "y = train['SalePrice'].values\n"
   ]
  },
  {
   "cell_type": "markdown",
   "id": "e66019b6",
   "metadata": {},
   "source": [
    "## Split data"
   ]
  },
  {
   "cell_type": "code",
   "execution_count": 19,
   "id": "70dfdf15",
   "metadata": {},
   "outputs": [],
   "source": [
    "# Create train/test\n",
    "x_train, x_test, y_train, y_test = train_test_split(    \n",
    "    x, y, test_size=0.2, random_state=42)"
   ]
  },
  {
   "cell_type": "markdown",
   "id": "30bdc573",
   "metadata": {},
   "source": [
    "# Model"
   ]
  },
  {
   "cell_type": "code",
   "execution_count": 20,
   "id": "56464000",
   "metadata": {},
   "outputs": [
    {
     "data": {
      "text/plain": [
       "LinearRegression()"
      ]
     },
     "execution_count": 20,
     "metadata": {},
     "output_type": "execute_result"
    }
   ],
   "source": [
    "model = LinearRegression()\n",
    "\n",
    "model.fit(x_train,y_train)"
   ]
  },
  {
   "cell_type": "code",
   "execution_count": 21,
   "id": "a93295b1",
   "metadata": {},
   "outputs": [],
   "source": [
    "y_pred = model.predict(x_test)\n",
    "R2 = r2_score(y_test,y_pred)\n",
    "MAE = mean_absolute_error(y_test,y_pred)\n",
    "MSE = mean_squared_error(y_test,y_pred)"
   ]
  },
  {
   "cell_type": "code",
   "execution_count": 22,
   "id": "c5535836",
   "metadata": {},
   "outputs": [
    {
     "name": "stdout",
     "output_type": "stream",
     "text": [
      "R2 = 0.872 and MAE = 19657.056\n"
     ]
    }
   ],
   "source": [
    "print(f'R2 = {round(R2,3)} and MAE = {round(MAE,3)}')"
   ]
  },
  {
   "cell_type": "code",
   "execution_count": 34,
   "id": "5c56ee37",
   "metadata": {},
   "outputs": [
    {
     "data": {
      "text/plain": [
       "array([-2.51891029e+04, -3.01888857e+03,  9.55490606e+03,  5.33042009e+04,\n",
       "        2.03003585e+04,  3.22130401e+03,  2.03392304e+03,  9.07671993e+03,\n",
       "        5.35511200e+04,  5.60107443e+03, -3.53370479e+02,  3.96403505e+04,\n",
       "       -1.71365742e+02, -8.73432199e+04, -1.31378275e+04, -3.08323689e+03,\n",
       "        7.19307912e+04,  4.48505686e+04,  1.89442220e+04, -2.23194367e+03,\n",
       "        6.03690042e+03,  5.03700654e+04,  5.13674537e+03, -5.54081487e+03,\n",
       "       -8.77116477e+03,  3.39144427e+04,  2.63123725e+04,  8.89424680e+03,\n",
       "        3.15415010e+03,  1.43845656e+04, -3.39959100e+04,  1.64649992e+04,\n",
       "        1.33319166e+03, -1.55806168e+15,  3.54840032e+03, -4.06906966e+14,\n",
       "       -6.44867485e+14,  1.68670391e+15, -4.69204205e+03,  4.79506453e+03,\n",
       "        6.08437507e+01, -2.54176530e+04,  4.55000000e+16,  2.15597751e+16,\n",
       "        5.97200551e+15, -5.54185406e+16,  5.36377714e+03, -6.87446036e+03,\n",
       "       -6.52522678e+03, -2.07317927e+03, -4.93657821e+04, -7.65588860e+04,\n",
       "        2.69660074e+04,  4.20621173e+04,  2.46952437e+04,  6.88464591e+03,\n",
       "       -8.21566496e+01, -7.23727816e+03, -2.88499990e+04,  2.70321076e+03,\n",
       "        1.55097645e+04,  2.09473748e+04,  2.09004464e+04,  7.21656690e+03,\n",
       "       -5.47888170e+02,  1.35110624e+04, -8.63156390e+02, -3.36136348e+03,\n",
       "        2.85923907e+03,  1.37101737e+04, -2.14093199e+04,  9.20227245e+04,\n",
       "       -7.84572822e+02, -4.05038748e+03, -1.09582812e+04, -2.45064490e+03,\n",
       "        5.54267263e+02,  2.85945936e+04,  1.23153766e+04])"
      ]
     },
     "execution_count": 34,
     "metadata": {},
     "output_type": "execute_result"
    }
   ],
   "source": [
    "model.coef_"
   ]
  },
  {
   "cell_type": "markdown",
   "id": "3ef0e9e9",
   "metadata": {},
   "source": [
    "## mean R2"
   ]
  },
  {
   "cell_type": "code",
   "execution_count": 35,
   "id": "b0a7f5e0",
   "metadata": {},
   "outputs": [
    {
     "data": {
      "text/plain": [
       "[<matplotlib.lines.Line2D at 0x7f991ab8a2e0>]"
      ]
     },
     "execution_count": 35,
     "metadata": {},
     "output_type": "execute_result"
    },
    {
     "data": {
      "image/png": "[encoded data removed]",
      "text/plain": [
       "<Figure size 432x288 with 1 Axes>"
      ]
     },
     "metadata": {
      "needs_background": "light"
     },
     "output_type": "display_data"
    }
   ],
   "source": [
    "R2s = list()\n",
    "MAEs = list()\n",
    "for i in range(43):\n",
    "    # Create train/test\n",
    "    x_train, x_test, y_train, y_test = train_test_split(    \n",
    "        x, y, test_size=0.2, random_state=i)\n",
    "    # start model\n",
    "    model = LinearRegression()\n",
    "    # fit model\n",
    "    model.fit(x_train,y_train)\n",
    "    # predictions\n",
    "    y_pred = model.predict(x_test)\n",
    "    R2 = r2_score(y_test,y_pred)\n",
    "    MAE = mean_absolute_error(y_test,y_pred)\n",
    "    R2s.append(R2)\n",
    "    MAEs.append(MAE)\n",
    "plt.plot(R2s)"
   ]
  },
  {
   "cell_type": "markdown",
   "id": "ac2e87e7",
   "metadata": {},
   "source": [
    "# Making predictions"
   ]
  },
  {
   "cell_type": "code",
   "execution_count": 8,
   "id": "b2796704",
   "metadata": {},
   "outputs": [
    {
     "data": {
      "text/html": [
       "<div>\n",
       "<style scoped>\n",
       "    .dataframe tbody tr th:only-of-type {\n",
       "        vertical-align: middle;\n",
       "    }\n",
       "\n",
       "    .dataframe tbody tr th {\n",
       "        vertical-align: top;\n",
       "    }\n",
       "\n",
       "    .dataframe thead th {\n",
       "        text-align: right;\n",
       "    }\n",
       "</style>\n",
       "<table border=\"1\" class=\"dataframe\">\n",
       "  <thead>\n",
       "    <tr style=\"text-align: right;\">\n",
       "      <th></th>\n",
       "      <th>Unnamed: 0</th>\n",
       "      <th>Id</th>\n",
       "      <th>MSSubClass</th>\n",
       "      <th>MSZoning</th>\n",
       "      <th>LotFrontage</th>\n",
       "      <th>LotArea</th>\n",
       "      <th>Street</th>\n",
       "      <th>Alley</th>\n",
       "      <th>LotShape</th>\n",
       "      <th>LandContour</th>\n",
       "      <th>...</th>\n",
       "      <th>ScreenPorch</th>\n",
       "      <th>PoolArea</th>\n",
       "      <th>PoolQC</th>\n",
       "      <th>Fence</th>\n",
       "      <th>MiscFeature</th>\n",
       "      <th>MiscVal</th>\n",
       "      <th>MoSold</th>\n",
       "      <th>YrSold</th>\n",
       "      <th>SaleType</th>\n",
       "      <th>SaleCondition</th>\n",
       "    </tr>\n",
       "  </thead>\n",
       "  <tbody>\n",
       "    <tr>\n",
       "      <th>0</th>\n",
       "      <td>0</td>\n",
       "      <td>1461</td>\n",
       "      <td>0.117647</td>\n",
       "      <td>0.50</td>\n",
       "      <td>0.255591</td>\n",
       "      <td>0.054322</td>\n",
       "      <td>1.0</td>\n",
       "      <td>1.0</td>\n",
       "      <td>0.000000</td>\n",
       "      <td>0.333333</td>\n",
       "      <td>...</td>\n",
       "      <td>0.25</td>\n",
       "      <td>0.0</td>\n",
       "      <td>0.0</td>\n",
       "      <td>0.5</td>\n",
       "      <td>0.75</td>\n",
       "      <td>0.000000</td>\n",
       "      <td>0.545455</td>\n",
       "      <td>502.5</td>\n",
       "      <td>0.5</td>\n",
       "      <td>0.8</td>\n",
       "    </tr>\n",
       "    <tr>\n",
       "      <th>1</th>\n",
       "      <td>1</td>\n",
       "      <td>1462</td>\n",
       "      <td>0.117647</td>\n",
       "      <td>0.75</td>\n",
       "      <td>0.258786</td>\n",
       "      <td>0.066685</td>\n",
       "      <td>1.0</td>\n",
       "      <td>1.0</td>\n",
       "      <td>0.333333</td>\n",
       "      <td>0.333333</td>\n",
       "      <td>...</td>\n",
       "      <td>0.00</td>\n",
       "      <td>0.0</td>\n",
       "      <td>0.0</td>\n",
       "      <td>1.0</td>\n",
       "      <td>0.50</td>\n",
       "      <td>0.806452</td>\n",
       "      <td>0.545455</td>\n",
       "      <td>502.5</td>\n",
       "      <td>0.5</td>\n",
       "      <td>0.8</td>\n",
       "    </tr>\n",
       "    <tr>\n",
       "      <th>2</th>\n",
       "      <td>2</td>\n",
       "      <td>1463</td>\n",
       "      <td>0.352941</td>\n",
       "      <td>0.75</td>\n",
       "      <td>0.236422</td>\n",
       "      <td>0.064643</td>\n",
       "      <td>1.0</td>\n",
       "      <td>1.0</td>\n",
       "      <td>0.333333</td>\n",
       "      <td>0.333333</td>\n",
       "      <td>...</td>\n",
       "      <td>0.00</td>\n",
       "      <td>0.0</td>\n",
       "      <td>0.0</td>\n",
       "      <td>0.5</td>\n",
       "      <td>0.75</td>\n",
       "      <td>0.000000</td>\n",
       "      <td>0.272727</td>\n",
       "      <td>502.5</td>\n",
       "      <td>0.5</td>\n",
       "      <td>0.8</td>\n",
       "    </tr>\n",
       "    <tr>\n",
       "      <th>3</th>\n",
       "      <td>3</td>\n",
       "      <td>1464</td>\n",
       "      <td>0.352941</td>\n",
       "      <td>0.75</td>\n",
       "      <td>0.249201</td>\n",
       "      <td>0.046638</td>\n",
       "      <td>1.0</td>\n",
       "      <td>1.0</td>\n",
       "      <td>0.333333</td>\n",
       "      <td>0.333333</td>\n",
       "      <td>...</td>\n",
       "      <td>0.00</td>\n",
       "      <td>0.0</td>\n",
       "      <td>0.0</td>\n",
       "      <td>1.0</td>\n",
       "      <td>0.75</td>\n",
       "      <td>0.000000</td>\n",
       "      <td>0.545455</td>\n",
       "      <td>502.5</td>\n",
       "      <td>0.5</td>\n",
       "      <td>0.8</td>\n",
       "    </tr>\n",
       "    <tr>\n",
       "      <th>4</th>\n",
       "      <td>4</td>\n",
       "      <td>1465</td>\n",
       "      <td>0.705882</td>\n",
       "      <td>0.75</td>\n",
       "      <td>0.137380</td>\n",
       "      <td>0.023394</td>\n",
       "      <td>1.0</td>\n",
       "      <td>1.0</td>\n",
       "      <td>0.333333</td>\n",
       "      <td>1.000000</td>\n",
       "      <td>...</td>\n",
       "      <td>0.30</td>\n",
       "      <td>0.0</td>\n",
       "      <td>0.0</td>\n",
       "      <td>1.0</td>\n",
       "      <td>0.75</td>\n",
       "      <td>0.000000</td>\n",
       "      <td>0.090909</td>\n",
       "      <td>502.5</td>\n",
       "      <td>0.5</td>\n",
       "      <td>0.8</td>\n",
       "    </tr>\n",
       "  </tbody>\n",
       "</table>\n",
       "<p>5 rows × 81 columns</p>\n",
       "</div>"
      ],
      "text/plain": [
       "   Unnamed: 0    Id  MSSubClass  MSZoning  LotFrontage   LotArea  Street  \\\n",
       "0           0  1461    0.117647      0.50     0.255591  0.054322     1.0   \n",
       "1           1  1462    0.117647      0.75     0.258786  0.066685     1.0   \n",
       "2           2  1463    0.352941      0.75     0.236422  0.064643     1.0   \n",
       "3           3  1464    0.352941      0.75     0.249201  0.046638     1.0   \n",
       "4           4  1465    0.705882      0.75     0.137380  0.023394     1.0   \n",
       "\n",
       "   Alley  LotShape  LandContour  ...  ScreenPorch  PoolArea  PoolQC  Fence  \\\n",
       "0    1.0  0.000000     0.333333  ...         0.25       0.0     0.0    0.5   \n",
       "1    1.0  0.333333     0.333333  ...         0.00       0.0     0.0    1.0   \n",
       "2    1.0  0.333333     0.333333  ...         0.00       0.0     0.0    0.5   \n",
       "3    1.0  0.333333     0.333333  ...         0.00       0.0     0.0    1.0   \n",
       "4    1.0  0.333333     1.000000  ...         0.30       0.0     0.0    1.0   \n",
       "\n",
       "   MiscFeature   MiscVal    MoSold  YrSold  SaleType  SaleCondition  \n",
       "0         0.75  0.000000  0.545455   502.5       0.5            0.8  \n",
       "1         0.50  0.806452  0.545455   502.5       0.5            0.8  \n",
       "2         0.75  0.000000  0.272727   502.5       0.5            0.8  \n",
       "3         0.75  0.000000  0.545455   502.5       0.5            0.8  \n",
       "4         0.75  0.000000  0.090909   502.5       0.5            0.8  \n",
       "\n",
       "[5 rows x 81 columns]"
      ]
     },
     "execution_count": 8,
     "metadata": {},
     "output_type": "execute_result"
    }
   ],
   "source": [
    "test.head()"
   ]
  },
  {
   "cell_type": "code",
   "execution_count": 9,
   "id": "584b2a8f",
   "metadata": {},
   "outputs": [
    {
     "data": {
      "text/plain": [
       "0       1461\n",
       "1       1462\n",
       "2       1463\n",
       "3       1464\n",
       "4       1465\n",
       "        ... \n",
       "1454    2915\n",
       "1455    2916\n",
       "1456    2917\n",
       "1457    2918\n",
       "1458    2919\n",
       "Name: Id, Length: 1459, dtype: int64"
      ]
     },
     "execution_count": 9,
     "metadata": {},
     "output_type": "execute_result"
    }
   ],
   "source": [
    "x_ids = test['Id']\n",
    "test_columns = test.columns.drop(['Unnamed: 0','Id'])\n",
    "x_test_2 = test[test_columns].values\n",
    "\n",
    "x_ids\n"
   ]
  },
  {
   "cell_type": "code",
   "execution_count": 10,
   "id": "8780a8f9",
   "metadata": {},
   "outputs": [
    {
     "name": "stdout",
     "output_type": "stream",
     "text": [
      "<class 'pandas.core.frame.DataFrame'>\n",
      "RangeIndex: 1459 entries, 0 to 1458\n",
      "Data columns (total 2 columns):\n",
      " #   Column     Non-Null Count  Dtype  \n",
      "---  ------     --------------  -----  \n",
      " 0   Id         1459 non-null   int64  \n",
      " 1   SalePrice  1459 non-null   float64\n",
      "dtypes: float64(1), int64(1)\n",
      "memory usage: 22.9 KB\n"
     ]
    }
   ],
   "source": [
    "y_pred_2 = model.predict(x_test_2)\n",
    "\n",
    "final=pd.DataFrame(data={'Id':x_ids,'SalePrice':y_pred_2})\n",
    "final.info()"
   ]
  },
  {
   "cell_type": "code",
   "execution_count": 11,
   "id": "10dd3ff3",
   "metadata": {},
   "outputs": [],
   "source": [
    "# Run the code to save predictions in the format used for competition scoring\n",
    "\n",
    "final.to_csv('submission.csv',index=False)"
   ]
  },
  {
   "cell_type": "markdown",
   "id": "0cecba80",
   "metadata": {},
   "source": [
    "# Submiting "
   ]
  },
  {
   "cell_type": "code",
   "execution_count": null,
   "id": "3a2193b9",
   "metadata": {},
   "outputs": [],
   "source": []
  }
 ],
 "metadata": {
  "kernelspec": {
   "display_name": "Python 3 (ipykernel)",
   "language": "python",
   "name": "python3"
  },
  "language_info": {
   "codemirror_mode": {
    "name": "ipython",
    "version": 3
   },
   "file_extension": ".py",
   "mimetype": "text/x-python",
   "name": "python",
   "nbconvert_exporter": "python",
   "pygments_lexer": "ipython3",
   "version": "3.9.7"
  }
 },
 "nbformat": 4,
 "nbformat_minor": 5
}
