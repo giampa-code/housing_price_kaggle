{
 "cells": [
  {
   "cell_type": "markdown",
   "id": "c4d1d90b",
   "metadata": {},
   "source": [
    "# Libraries"
   ]
  },
  {
   "cell_type": "code",
   "execution_count": 336,
   "id": "9580b711",
   "metadata": {},
   "outputs": [],
   "source": [
    "import numpy as np\n",
    "import pandas as pd\n",
    "import os"
   ]
  },
  {
   "cell_type": "markdown",
   "id": "726cdb79",
   "metadata": {},
   "source": [
    "# Load Data"
   ]
  },
  {
   "cell_type": "code",
   "execution_count": 337,
   "id": "5afd838a",
   "metadata": {},
   "outputs": [
    {
     "name": "stdout",
     "output_type": "stream",
     "text": [
      "['train.csv.gz', 'sample_submission.csv', 'sample_submission.csv.gz', 'data_description.txt', 'test.csv.gz', 'test.csv', 'train.csv']\n"
     ]
    }
   ],
   "source": [
    "# Data reading OK\n",
    "print(os.listdir(\"./input/home-data-for-ml-course\"))"
   ]
  },
  {
   "cell_type": "code",
   "execution_count": 351,
   "id": "b1592eef",
   "metadata": {},
   "outputs": [],
   "source": [
    "# Loading data\n",
    "\n",
    "train=pd.read_csv('./input/home-data-for-ml-course/train.csv')\n",
    "test=pd.read_csv('./input/home-data-for-ml-course/test.csv')"
   ]
  },
  {
   "cell_type": "markdown",
   "id": "fa5894fa",
   "metadata": {},
   "source": [
    "# Data Analysis"
   ]
  },
  {
   "cell_type": "code",
   "execution_count": 352,
   "id": "d33f346f",
   "metadata": {},
   "outputs": [
    {
     "data": {
      "text/html": [
       "<div>\n",
       "<style scoped>\n",
       "    .dataframe tbody tr th:only-of-type {\n",
       "        vertical-align: middle;\n",
       "    }\n",
       "\n",
       "    .dataframe tbody tr th {\n",
       "        vertical-align: top;\n",
       "    }\n",
       "\n",
       "    .dataframe thead th {\n",
       "        text-align: right;\n",
       "    }\n",
       "</style>\n",
       "<table border=\"1\" class=\"dataframe\">\n",
       "  <thead>\n",
       "    <tr style=\"text-align: right;\">\n",
       "      <th></th>\n",
       "      <th>Id</th>\n",
       "      <th>MSSubClass</th>\n",
       "      <th>MSZoning</th>\n",
       "      <th>LotFrontage</th>\n",
       "      <th>LotArea</th>\n",
       "      <th>Street</th>\n",
       "      <th>Alley</th>\n",
       "      <th>LotShape</th>\n",
       "      <th>LandContour</th>\n",
       "      <th>Utilities</th>\n",
       "      <th>...</th>\n",
       "      <th>PoolArea</th>\n",
       "      <th>PoolQC</th>\n",
       "      <th>Fence</th>\n",
       "      <th>MiscFeature</th>\n",
       "      <th>MiscVal</th>\n",
       "      <th>MoSold</th>\n",
       "      <th>YrSold</th>\n",
       "      <th>SaleType</th>\n",
       "      <th>SaleCondition</th>\n",
       "      <th>SalePrice</th>\n",
       "    </tr>\n",
       "  </thead>\n",
       "  <tbody>\n",
       "    <tr>\n",
       "      <th>0</th>\n",
       "      <td>1</td>\n",
       "      <td>60</td>\n",
       "      <td>RL</td>\n",
       "      <td>65.0</td>\n",
       "      <td>8450</td>\n",
       "      <td>Pave</td>\n",
       "      <td>NaN</td>\n",
       "      <td>Reg</td>\n",
       "      <td>Lvl</td>\n",
       "      <td>AllPub</td>\n",
       "      <td>...</td>\n",
       "      <td>0</td>\n",
       "      <td>NaN</td>\n",
       "      <td>NaN</td>\n",
       "      <td>NaN</td>\n",
       "      <td>0</td>\n",
       "      <td>2</td>\n",
       "      <td>2008</td>\n",
       "      <td>WD</td>\n",
       "      <td>Normal</td>\n",
       "      <td>208500</td>\n",
       "    </tr>\n",
       "    <tr>\n",
       "      <th>1</th>\n",
       "      <td>2</td>\n",
       "      <td>20</td>\n",
       "      <td>RL</td>\n",
       "      <td>80.0</td>\n",
       "      <td>9600</td>\n",
       "      <td>Pave</td>\n",
       "      <td>NaN</td>\n",
       "      <td>Reg</td>\n",
       "      <td>Lvl</td>\n",
       "      <td>AllPub</td>\n",
       "      <td>...</td>\n",
       "      <td>0</td>\n",
       "      <td>NaN</td>\n",
       "      <td>NaN</td>\n",
       "      <td>NaN</td>\n",
       "      <td>0</td>\n",
       "      <td>5</td>\n",
       "      <td>2007</td>\n",
       "      <td>WD</td>\n",
       "      <td>Normal</td>\n",
       "      <td>181500</td>\n",
       "    </tr>\n",
       "    <tr>\n",
       "      <th>2</th>\n",
       "      <td>3</td>\n",
       "      <td>60</td>\n",
       "      <td>RL</td>\n",
       "      <td>68.0</td>\n",
       "      <td>11250</td>\n",
       "      <td>Pave</td>\n",
       "      <td>NaN</td>\n",
       "      <td>IR1</td>\n",
       "      <td>Lvl</td>\n",
       "      <td>AllPub</td>\n",
       "      <td>...</td>\n",
       "      <td>0</td>\n",
       "      <td>NaN</td>\n",
       "      <td>NaN</td>\n",
       "      <td>NaN</td>\n",
       "      <td>0</td>\n",
       "      <td>9</td>\n",
       "      <td>2008</td>\n",
       "      <td>WD</td>\n",
       "      <td>Normal</td>\n",
       "      <td>223500</td>\n",
       "    </tr>\n",
       "    <tr>\n",
       "      <th>3</th>\n",
       "      <td>4</td>\n",
       "      <td>70</td>\n",
       "      <td>RL</td>\n",
       "      <td>60.0</td>\n",
       "      <td>9550</td>\n",
       "      <td>Pave</td>\n",
       "      <td>NaN</td>\n",
       "      <td>IR1</td>\n",
       "      <td>Lvl</td>\n",
       "      <td>AllPub</td>\n",
       "      <td>...</td>\n",
       "      <td>0</td>\n",
       "      <td>NaN</td>\n",
       "      <td>NaN</td>\n",
       "      <td>NaN</td>\n",
       "      <td>0</td>\n",
       "      <td>2</td>\n",
       "      <td>2006</td>\n",
       "      <td>WD</td>\n",
       "      <td>Abnorml</td>\n",
       "      <td>140000</td>\n",
       "    </tr>\n",
       "    <tr>\n",
       "      <th>4</th>\n",
       "      <td>5</td>\n",
       "      <td>60</td>\n",
       "      <td>RL</td>\n",
       "      <td>84.0</td>\n",
       "      <td>14260</td>\n",
       "      <td>Pave</td>\n",
       "      <td>NaN</td>\n",
       "      <td>IR1</td>\n",
       "      <td>Lvl</td>\n",
       "      <td>AllPub</td>\n",
       "      <td>...</td>\n",
       "      <td>0</td>\n",
       "      <td>NaN</td>\n",
       "      <td>NaN</td>\n",
       "      <td>NaN</td>\n",
       "      <td>0</td>\n",
       "      <td>12</td>\n",
       "      <td>2008</td>\n",
       "      <td>WD</td>\n",
       "      <td>Normal</td>\n",
       "      <td>250000</td>\n",
       "    </tr>\n",
       "  </tbody>\n",
       "</table>\n",
       "<p>5 rows × 81 columns</p>\n",
       "</div>"
      ],
      "text/plain": [
       "   Id  MSSubClass MSZoning  LotFrontage  LotArea Street Alley LotShape  \\\n",
       "0   1          60       RL         65.0     8450   Pave   NaN      Reg   \n",
       "1   2          20       RL         80.0     9600   Pave   NaN      Reg   \n",
       "2   3          60       RL         68.0    11250   Pave   NaN      IR1   \n",
       "3   4          70       RL         60.0     9550   Pave   NaN      IR1   \n",
       "4   5          60       RL         84.0    14260   Pave   NaN      IR1   \n",
       "\n",
       "  LandContour Utilities  ... PoolArea PoolQC Fence MiscFeature MiscVal MoSold  \\\n",
       "0         Lvl    AllPub  ...        0    NaN   NaN         NaN       0      2   \n",
       "1         Lvl    AllPub  ...        0    NaN   NaN         NaN       0      5   \n",
       "2         Lvl    AllPub  ...        0    NaN   NaN         NaN       0      9   \n",
       "3         Lvl    AllPub  ...        0    NaN   NaN         NaN       0      2   \n",
       "4         Lvl    AllPub  ...        0    NaN   NaN         NaN       0     12   \n",
       "\n",
       "  YrSold  SaleType  SaleCondition  SalePrice  \n",
       "0   2008        WD         Normal     208500  \n",
       "1   2007        WD         Normal     181500  \n",
       "2   2008        WD         Normal     223500  \n",
       "3   2006        WD        Abnorml     140000  \n",
       "4   2008        WD         Normal     250000  \n",
       "\n",
       "[5 rows x 81 columns]"
      ]
     },
     "execution_count": 352,
     "metadata": {},
     "output_type": "execute_result"
    }
   ],
   "source": [
    "# Data look up\n",
    "train.head(5)"
   ]
  },
  {
   "cell_type": "code",
   "execution_count": 353,
   "id": "a53a0aa6",
   "metadata": {},
   "outputs": [
    {
     "name": "stdout",
     "output_type": "stream",
     "text": [
      "<class 'pandas.core.frame.DataFrame'>\n",
      "RangeIndex: 1460 entries, 0 to 1459\n",
      "Data columns (total 81 columns):\n",
      " #   Column         Non-Null Count  Dtype  \n",
      "---  ------         --------------  -----  \n",
      " 0   Id             1460 non-null   int64  \n",
      " 1   MSSubClass     1460 non-null   int64  \n",
      " 2   MSZoning       1460 non-null   object \n",
      " 3   LotFrontage    1201 non-null   float64\n",
      " 4   LotArea        1460 non-null   int64  \n",
      " 5   Street         1460 non-null   object \n",
      " 6   Alley          91 non-null     object \n",
      " 7   LotShape       1460 non-null   object \n",
      " 8   LandContour    1460 non-null   object \n",
      " 9   Utilities      1460 non-null   object \n",
      " 10  LotConfig      1460 non-null   object \n",
      " 11  LandSlope      1460 non-null   object \n",
      " 12  Neighborhood   1460 non-null   object \n",
      " 13  Condition1     1460 non-null   object \n",
      " 14  Condition2     1460 non-null   object \n",
      " 15  BldgType       1460 non-null   object \n",
      " 16  HouseStyle     1460 non-null   object \n",
      " 17  OverallQual    1460 non-null   int64  \n",
      " 18  OverallCond    1460 non-null   int64  \n",
      " 19  YearBuilt      1460 non-null   int64  \n",
      " 20  YearRemodAdd   1460 non-null   int64  \n",
      " 21  RoofStyle      1460 non-null   object \n",
      " 22  RoofMatl       1460 non-null   object \n",
      " 23  Exterior1st    1460 non-null   object \n",
      " 24  Exterior2nd    1460 non-null   object \n",
      " 25  MasVnrType     1452 non-null   object \n",
      " 26  MasVnrArea     1452 non-null   float64\n",
      " 27  ExterQual      1460 non-null   object \n",
      " 28  ExterCond      1460 non-null   object \n",
      " 29  Foundation     1460 non-null   object \n",
      " 30  BsmtQual       1423 non-null   object \n",
      " 31  BsmtCond       1423 non-null   object \n",
      " 32  BsmtExposure   1422 non-null   object \n",
      " 33  BsmtFinType1   1423 non-null   object \n",
      " 34  BsmtFinSF1     1460 non-null   int64  \n",
      " 35  BsmtFinType2   1422 non-null   object \n",
      " 36  BsmtFinSF2     1460 non-null   int64  \n",
      " 37  BsmtUnfSF      1460 non-null   int64  \n",
      " 38  TotalBsmtSF    1460 non-null   int64  \n",
      " 39  Heating        1460 non-null   object \n",
      " 40  HeatingQC      1460 non-null   object \n",
      " 41  CentralAir     1460 non-null   object \n",
      " 42  Electrical     1459 non-null   object \n",
      " 43  1stFlrSF       1460 non-null   int64  \n",
      " 44  2ndFlrSF       1460 non-null   int64  \n",
      " 45  LowQualFinSF   1460 non-null   int64  \n",
      " 46  GrLivArea      1460 non-null   int64  \n",
      " 47  BsmtFullBath   1460 non-null   int64  \n",
      " 48  BsmtHalfBath   1460 non-null   int64  \n",
      " 49  FullBath       1460 non-null   int64  \n",
      " 50  HalfBath       1460 non-null   int64  \n",
      " 51  BedroomAbvGr   1460 non-null   int64  \n",
      " 52  KitchenAbvGr   1460 non-null   int64  \n",
      " 53  KitchenQual    1460 non-null   object \n",
      " 54  TotRmsAbvGrd   1460 non-null   int64  \n",
      " 55  Functional     1460 non-null   object \n",
      " 56  Fireplaces     1460 non-null   int64  \n",
      " 57  FireplaceQu    770 non-null    object \n",
      " 58  GarageType     1379 non-null   object \n",
      " 59  GarageYrBlt    1379 non-null   float64\n",
      " 60  GarageFinish   1379 non-null   object \n",
      " 61  GarageCars     1460 non-null   int64  \n",
      " 62  GarageArea     1460 non-null   int64  \n",
      " 63  GarageQual     1379 non-null   object \n",
      " 64  GarageCond     1379 non-null   object \n",
      " 65  PavedDrive     1460 non-null   object \n",
      " 66  WoodDeckSF     1460 non-null   int64  \n",
      " 67  OpenPorchSF    1460 non-null   int64  \n",
      " 68  EnclosedPorch  1460 non-null   int64  \n",
      " 69  3SsnPorch      1460 non-null   int64  \n",
      " 70  ScreenPorch    1460 non-null   int64  \n",
      " 71  PoolArea       1460 non-null   int64  \n",
      " 72  PoolQC         7 non-null      object \n",
      " 73  Fence          281 non-null    object \n",
      " 74  MiscFeature    54 non-null     object \n",
      " 75  MiscVal        1460 non-null   int64  \n",
      " 76  MoSold         1460 non-null   int64  \n",
      " 77  YrSold         1460 non-null   int64  \n",
      " 78  SaleType       1460 non-null   object \n",
      " 79  SaleCondition  1460 non-null   object \n",
      " 80  SalePrice      1460 non-null   int64  \n",
      "dtypes: float64(3), int64(35), object(43)\n",
      "memory usage: 924.0+ KB\n"
     ]
    }
   ],
   "source": [
    "train.info()"
   ]
  },
  {
   "cell_type": "code",
   "execution_count": 354,
   "id": "65223a13",
   "metadata": {},
   "outputs": [
    {
     "data": {
      "text/plain": [
       "0.0625814277370951"
      ]
     },
     "execution_count": 354,
     "metadata": {},
     "output_type": "execute_result"
    }
   ],
   "source": [
    "# Calculating NaN percentage\n",
    "def nans_ratio(train):\n",
    "    \"\"\"calculate the nan ratio in a df\"\"\"\n",
    "    total_nans = train.isna().sum().sum()\n",
    "    total_cells = train.count().sum()\n",
    "    nans_ratio = total_nans / total_cells\n",
    "    return nans_ratio\n",
    "nans_ratio(train)"
   ]
  },
  {
   "cell_type": "markdown",
   "id": "7c397730",
   "metadata": {},
   "source": [
    "## Treating NaN values"
   ]
  },
  {
   "cell_type": "markdown",
   "id": "31f72a6e",
   "metadata": {},
   "source": [
    "### Alley"
   ]
  },
  {
   "cell_type": "code",
   "execution_count": 355,
   "id": "bd59405d",
   "metadata": {},
   "outputs": [
    {
     "data": {
      "text/plain": [
       "Grvl    50\n",
       "Pave    41\n",
       "Name: Alley, dtype: int64"
      ]
     },
     "execution_count": 355,
     "metadata": {},
     "output_type": "execute_result"
    }
   ],
   "source": [
    "# the data description indicates that NA as 'No alley' ot 'Not Apply', so we will turn this NaN into 'NA'\n",
    "train['Alley'].value_counts()"
   ]
  },
  {
   "cell_type": "code",
   "execution_count": 356,
   "id": "1266dcc3",
   "metadata": {},
   "outputs": [
    {
     "data": {
      "text/plain": [
       "NA      1369\n",
       "Grvl      50\n",
       "Pave      41\n",
       "Name: Alley, dtype: int64"
      ]
     },
     "execution_count": 356,
     "metadata": {},
     "output_type": "execute_result"
    }
   ],
   "source": [
    "train['Alley'].fillna('NA', inplace=True)\n",
    "train['Alley'].value_counts()"
   ]
  },
  {
   "cell_type": "markdown",
   "id": "08cb1061",
   "metadata": {},
   "source": [
    "### Other features"
   ]
  },
  {
   "cell_type": "code",
   "execution_count": 357,
   "id": "50d74077",
   "metadata": {},
   "outputs": [],
   "source": [
    "# The same problems was founded in several features that include 'NA' in it's values\n",
    "# NaN values will be replaced with 'NA' in the following features\n",
    "nan_features = ['Alley','FireplaceQu', 'PoolQC','Fence','MiscFeature','GarageType','GarageFinish','GarageQual',\n",
    "                'GarageCond','BsmtQual','BsmtCond','BsmtExposure','BsmtFinType1','BsmtFinType2']\n",
    "for f in nan_features:\n",
    "    train[f].fillna('NA', inplace=True)"
   ]
  },
  {
   "cell_type": "code",
   "execution_count": 358,
   "id": "5a49e367",
   "metadata": {},
   "outputs": [
    {
     "data": {
      "text/plain": [
       "NA    1453\n",
       "Gd       3\n",
       "Ex       2\n",
       "Fa       2\n",
       "Name: PoolQC, dtype: int64"
      ]
     },
     "execution_count": 358,
     "metadata": {},
     "output_type": "execute_result"
    }
   ],
   "source": [
    "train['PoolQC'].value_counts()"
   ]
  },
  {
   "cell_type": "code",
   "execution_count": 359,
   "id": "3082f761",
   "metadata": {},
   "outputs": [],
   "source": [
    "# Doing the same for the test set\n",
    "for f in nan_features:\n",
    "    test[f].fillna('NA', inplace=True)"
   ]
  },
  {
   "cell_type": "code",
   "execution_count": 360,
   "id": "aedd9d4c",
   "metadata": {},
   "outputs": [],
   "source": [
    "# For 'GarageYrBlt', if there is no garage, it will be filled with 0\n",
    "# The same will be donde for 'LotFrontage', assuming that NaN is equalo to 0 or no front.\n",
    "train['GarageYrBlt'].fillna(0, inplace=True)\n",
    "test['GarageYrBlt'].fillna(0, inplace=True)\n",
    "train['LotFrontage'].fillna(0, inplace=True)\n",
    "test['LotFrontage'].fillna(0, inplace=True)"
   ]
  },
  {
   "cell_type": "code",
   "execution_count": 361,
   "id": "962d5039",
   "metadata": {},
   "outputs": [
    {
     "data": {
      "text/plain": [
       "0.00014377172433040433"
      ]
     },
     "execution_count": 361,
     "metadata": {},
     "output_type": "execute_result"
    }
   ],
   "source": [
    "# Check info\n",
    "nans_ratio(train)"
   ]
  },
  {
   "cell_type": "markdown",
   "id": "36d39683",
   "metadata": {},
   "source": [
    "### Drop the rest of the NaN rows\n",
    "\n",
    "To avoid further problems, the rest of the Nulls/Nans rows will be droped"
   ]
  },
  {
   "cell_type": "code",
   "execution_count": 362,
   "id": "5c426899",
   "metadata": {},
   "outputs": [],
   "source": [
    "# Train\n",
    "train = train.dropna()\n",
    "train = train.reset_index(drop=True)\n",
    "# Test\n",
    "test = test.dropna()\n",
    "test = test.reset_index(drop=True)"
   ]
  },
  {
   "cell_type": "code",
   "execution_count": 363,
   "id": "3a14c5fe",
   "metadata": {},
   "outputs": [
    {
     "data": {
      "text/plain": [
       "0.0"
      ]
     },
     "execution_count": 363,
     "metadata": {},
     "output_type": "execute_result"
    }
   ],
   "source": [
    "nans_ratio(train)"
   ]
  },
  {
   "cell_type": "markdown",
   "id": "7f08827e",
   "metadata": {},
   "source": [
    "## Treating categorical data\n",
    "\n",
    "Because there are son many features with categorical data, using dummy for all variables will leave the df with hundreds columns more.\n",
    "Also, many of the categorical features have some ordinal properties, so we want to keep that information. Variables will be processed to asign numerical values going from 0 (worst) to n (best) (n=number of labels)\n",
    "\n",
    "I.e. \n",
    "\n",
    "AllPub\tAll public Utilities (E,G,W,& S)\t-->3\n",
    "\n",
    "NoSewr\tElectricity, Gas, and Water (Septic Tank) -->2\n",
    "\n",
    "NoSeWa\tElectricity and Gas Only  --> 1\n",
    "\n",
    "ELO\tElectricity only\t--> 0\n",
    "\n",
    "This process will be done automatically, grouping by the feature and ranking by the mean of the target (SalePrice).\n",
    "\n",
    "For more info, look at data_description.txt"
   ]
  },
  {
   "cell_type": "markdown",
   "id": "94b236b0",
   "metadata": {},
   "source": [
    "### Categorical encoding function\n"
   ]
  },
  {
   "cell_type": "code",
   "execution_count": 364,
   "id": "8c0e174b",
   "metadata": {},
   "outputs": [
    {
     "data": {
      "text/plain": [
       "MSZoning\n",
       "C (all)     74528.000000\n",
       "RM         126316.830275\n",
       "RH         131558.375000\n",
       "RL         190720.720524\n",
       "FV         214888.129032\n",
       "Name: SalePrice, dtype: float64"
      ]
     },
     "execution_count": 364,
     "metadata": {},
     "output_type": "execute_result"
    }
   ],
   "source": [
    "#SalePrice-> group_by MSZoning -> mean\n",
    "train.groupby('MSZoning')['SalePrice'].mean().sort_values(ascending=True)"
   ]
  },
  {
   "cell_type": "code",
   "execution_count": 365,
   "id": "2cc6dfef",
   "metadata": {},
   "outputs": [
    {
     "data": {
      "text/plain": [
       "RL         1145\n",
       "RM          218\n",
       "FV           62\n",
       "RH           16\n",
       "C (all)      10\n",
       "Name: MSZoning, dtype: int64"
      ]
     },
     "execution_count": 365,
     "metadata": {},
     "output_type": "execute_result"
    }
   ],
   "source": [
    "train[\"MSZoning\"].value_counts()"
   ]
  },
  {
   "cell_type": "code",
   "execution_count": 366,
   "id": "a61206b8",
   "metadata": {},
   "outputs": [
    {
     "data": {
      "text/plain": [
       "Index(['C (all)', 'RM', 'RH', 'RL', 'FV'], dtype='object', name='MSZoning')"
      ]
     },
     "execution_count": 366,
     "metadata": {},
     "output_type": "execute_result"
    }
   ],
   "source": [
    "labels = train.groupby('MSZoning')['SalePrice'].mean().sort_values(ascending=True).index\n",
    "labels"
   ]
  },
  {
   "cell_type": "code",
   "execution_count": 368,
   "id": "cd52816a",
   "metadata": {},
   "outputs": [],
   "source": [
    "for i,label in enumerate(labels):\n",
    "    train.loc[train[\"MSZoning\"] == label, \"MSZoning\"] = int(i)\n",
    "    test.loc[test[\"MSZoning\"] == label, \"MSZoning\"] = int(i)\n",
    "train[\"MSZoning\"] = train[\"MSZoning\"].astype(int)\n",
    "test[\"MSZoning\"] = test[\"MSZoning\"].astype(int)"
   ]
  },
  {
   "cell_type": "code",
   "execution_count": 369,
   "id": "76e58205",
   "metadata": {},
   "outputs": [
    {
     "data": {
      "text/plain": [
       "3    1145\n",
       "1     218\n",
       "4      62\n",
       "2      16\n",
       "0      10\n",
       "Name: MSZoning, dtype: int64"
      ]
     },
     "execution_count": 369,
     "metadata": {},
     "output_type": "execute_result"
    }
   ],
   "source": [
    "train[\"MSZoning\"].value_counts()"
   ]
  },
  {
   "cell_type": "code",
   "execution_count": 382,
   "id": "6bca8576",
   "metadata": {},
   "outputs": [],
   "source": [
    "def encode_categorical(feature):\n",
    "    \"\"\"\n",
    "    Giving a feature f, encodes the categorical feature\n",
    "    into integers from 0 to n-1 taking in account the \n",
    "    correlation with the target SalePrice\n",
    "    \"\"\"\n",
    "    labels = train.groupby(feature)['SalePrice'].mean().sort_values(ascending=True).index\n",
    "    for i,label in enumerate(labels):\n",
    "        train.loc[train[feature] == label, feature] = i\n",
    "        test.loc[test[feature] == label, feature] = i\n",
    "    train[feature] = train[feature].astype(int)\n",
    "    test[feature] = test[feature].astype(int)"
   ]
  },
  {
   "cell_type": "markdown",
   "id": "453a766b",
   "metadata": {},
   "source": [
    "## Ordinal categorical encoding"
   ]
  },
  {
   "cell_type": "code",
   "execution_count": 385,
   "id": "b26406b2",
   "metadata": {},
   "outputs": [],
   "source": [
    "# Encoding train and test df\n",
    "\n",
    "for column in train.columns:\n",
    "    # if the dtype of the column is object\n",
    "    if train[column].dtype == 'object':\n",
    "        encode_categorical(column)\n",
    "        \n"
   ]
  },
  {
   "cell_type": "code",
   "execution_count": 384,
   "id": "a85ab4e3",
   "metadata": {},
   "outputs": [
    {
     "name": "stdout",
     "output_type": "stream",
     "text": [
      "<class 'pandas.core.frame.DataFrame'>\n",
      "RangeIndex: 1451 entries, 0 to 1450\n",
      "Data columns (total 81 columns):\n",
      " #   Column         Non-Null Count  Dtype  \n",
      "---  ------         --------------  -----  \n",
      " 0   Id             1451 non-null   int64  \n",
      " 1   MSSubClass     1451 non-null   int64  \n",
      " 2   MSZoning       1451 non-null   int64  \n",
      " 3   LotFrontage    1451 non-null   float64\n",
      " 4   LotArea        1451 non-null   int64  \n",
      " 5   Street         1451 non-null   int64  \n",
      " 6   Alley          1451 non-null   int64  \n",
      " 7   LotShape       1451 non-null   int64  \n",
      " 8   LandContour    1451 non-null   int64  \n",
      " 9   Utilities      1451 non-null   int64  \n",
      " 10  LotConfig      1451 non-null   int64  \n",
      " 11  LandSlope      1451 non-null   int64  \n",
      " 12  Neighborhood   1451 non-null   int64  \n",
      " 13  Condition1     1451 non-null   int64  \n",
      " 14  Condition2     1451 non-null   int64  \n",
      " 15  BldgType       1451 non-null   int64  \n",
      " 16  HouseStyle     1451 non-null   int64  \n",
      " 17  OverallQual    1451 non-null   int64  \n",
      " 18  OverallCond    1451 non-null   int64  \n",
      " 19  YearBuilt      1451 non-null   int64  \n",
      " 20  YearRemodAdd   1451 non-null   int64  \n",
      " 21  RoofStyle      1451 non-null   int64  \n",
      " 22  RoofMatl       1451 non-null   int64  \n",
      " 23  Exterior1st    1451 non-null   int64  \n",
      " 24  Exterior2nd    1451 non-null   int64  \n",
      " 25  MasVnrType     1451 non-null   int64  \n",
      " 26  MasVnrArea     1451 non-null   float64\n",
      " 27  ExterQual      1451 non-null   int64  \n",
      " 28  ExterCond      1451 non-null   int64  \n",
      " 29  Foundation     1451 non-null   int64  \n",
      " 30  BsmtQual       1451 non-null   int64  \n",
      " 31  BsmtCond       1451 non-null   int64  \n",
      " 32  BsmtExposure   1451 non-null   int64  \n",
      " 33  BsmtFinType1   1451 non-null   int64  \n",
      " 34  BsmtFinSF1     1451 non-null   int64  \n",
      " 35  BsmtFinType2   1451 non-null   int64  \n",
      " 36  BsmtFinSF2     1451 non-null   int64  \n",
      " 37  BsmtUnfSF      1451 non-null   int64  \n",
      " 38  TotalBsmtSF    1451 non-null   int64  \n",
      " 39  Heating        1451 non-null   int64  \n",
      " 40  HeatingQC      1451 non-null   int64  \n",
      " 41  CentralAir     1451 non-null   int64  \n",
      " 42  Electrical     1451 non-null   int64  \n",
      " 43  1stFlrSF       1451 non-null   int64  \n",
      " 44  2ndFlrSF       1451 non-null   int64  \n",
      " 45  LowQualFinSF   1451 non-null   int64  \n",
      " 46  GrLivArea      1451 non-null   int64  \n",
      " 47  BsmtFullBath   1451 non-null   int64  \n",
      " 48  BsmtHalfBath   1451 non-null   int64  \n",
      " 49  FullBath       1451 non-null   int64  \n",
      " 50  HalfBath       1451 non-null   int64  \n",
      " 51  BedroomAbvGr   1451 non-null   int64  \n",
      " 52  KitchenAbvGr   1451 non-null   int64  \n",
      " 53  KitchenQual    1451 non-null   int64  \n",
      " 54  TotRmsAbvGrd   1451 non-null   int64  \n",
      " 55  Functional     1451 non-null   int64  \n",
      " 56  Fireplaces     1451 non-null   int64  \n",
      " 57  FireplaceQu    1451 non-null   int64  \n",
      " 58  GarageType     1451 non-null   int64  \n",
      " 59  GarageYrBlt    1451 non-null   float64\n",
      " 60  GarageFinish   1451 non-null   int64  \n",
      " 61  GarageCars     1451 non-null   int64  \n",
      " 62  GarageArea     1451 non-null   int64  \n",
      " 63  GarageQual     1451 non-null   int64  \n",
      " 64  GarageCond     1451 non-null   int64  \n",
      " 65  PavedDrive     1451 non-null   int64  \n",
      " 66  WoodDeckSF     1451 non-null   int64  \n",
      " 67  OpenPorchSF    1451 non-null   int64  \n",
      " 68  EnclosedPorch  1451 non-null   int64  \n",
      " 69  3SsnPorch      1451 non-null   int64  \n",
      " 70  ScreenPorch    1451 non-null   int64  \n",
      " 71  PoolArea       1451 non-null   int64  \n",
      " 72  PoolQC         1451 non-null   int64  \n",
      " 73  Fence          1451 non-null   int64  \n",
      " 74  MiscFeature    1451 non-null   int64  \n",
      " 75  MiscVal        1451 non-null   int64  \n",
      " 76  MoSold         1451 non-null   int64  \n",
      " 77  YrSold         1451 non-null   int64  \n",
      " 78  SaleType       1451 non-null   int64  \n",
      " 79  SaleCondition  1451 non-null   int64  \n",
      " 80  SalePrice      1451 non-null   int64  \n",
      "dtypes: float64(3), int64(78)\n",
      "memory usage: 918.3 KB\n"
     ]
    }
   ],
   "source": [
    "train.info()"
   ]
  },
  {
   "cell_type": "code",
   "execution_count": null,
   "id": "043a97a0",
   "metadata": {},
   "outputs": [],
   "source": []
  },
  {
   "cell_type": "code",
   "execution_count": null,
   "id": "c3b213bf",
   "metadata": {},
   "outputs": [],
   "source": []
  }
 ],
 "metadata": {
  "kernelspec": {
   "display_name": "Python 3 (ipykernel)",
   "language": "python",
   "name": "python3"
  },
  "language_info": {
   "codemirror_mode": {
    "name": "ipython",
    "version": 3
   },
   "file_extension": ".py",
   "mimetype": "text/x-python",
   "name": "python",
   "nbconvert_exporter": "python",
   "pygments_lexer": "ipython3",
   "version": "3.9.7"
  }
 },
 "nbformat": 4,
 "nbformat_minor": 5
}
