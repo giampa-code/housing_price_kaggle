{
 "cells": [
  {
   "cell_type": "markdown",
   "id": "6ea2cc1d",
   "metadata": {},
   "source": [
    "## Kaggle score: 20662 (The lower the better)"
   ]
  },
  {
   "cell_type": "markdown",
   "id": "f488bec6",
   "metadata": {},
   "source": [
    "# Libraries"
   ]
  },
  {
   "cell_type": "code",
   "execution_count": 1,
   "id": "87890828",
   "metadata": {},
   "outputs": [],
   "source": [
    "import numpy as np\n",
    "import pandas as pd\n",
    "import os\n",
    "import matplotlib.pyplot as plt\n",
    "\n",
    "from sklearn.model_selection import train_test_split\n",
    "from sklearn.metrics import accuracy_score,r2_score,mean_squared_error,mean_absolute_error,auc,roc_curve,confusion_matrix\n",
    "from sklearn.linear_model import LinearRegression"
   ]
  },
  {
   "cell_type": "code",
   "execution_count": 2,
   "id": "7ce47330",
   "metadata": {},
   "outputs": [],
   "source": [
    "train = pd.read_csv('/home/giampa95/programming/DS/housing_price_kaggle/train_fe_v0.csv')\n",
    "test = pd.read_csv('/home/giampa95/programming/DS/housing_price_kaggle/test_fe_v0.csv')"
   ]
  },
  {
   "cell_type": "markdown",
   "id": "cd0e5417",
   "metadata": {},
   "source": [
    "# Fit model"
   ]
  },
  {
   "cell_type": "markdown",
   "id": "9257cb29",
   "metadata": {},
   "source": [
    "# Define predictors and target"
   ]
  },
  {
   "cell_type": "code",
   "execution_count": 3,
   "id": "981ebd5b",
   "metadata": {},
   "outputs": [],
   "source": [
    "# Converto to numpy\n",
    "x_columns = train.columns.drop(['SalePrice','Unnamed: 0' ])\n",
    "x = train[x_columns].values\n",
    "y = train['SalePrice'].values\n"
   ]
  },
  {
   "cell_type": "markdown",
   "id": "e66019b6",
   "metadata": {},
   "source": [
    "## Split data"
   ]
  },
  {
   "cell_type": "code",
   "execution_count": 4,
   "id": "70dfdf15",
   "metadata": {},
   "outputs": [],
   "source": [
    "# Create train/test\n",
    "x_train, x_test, y_train, y_test = train_test_split(    \n",
    "    x, y, test_size=0.4, random_state=5)"
   ]
  },
  {
   "cell_type": "markdown",
   "id": "30bdc573",
   "metadata": {},
   "source": [
    "# Model"
   ]
  },
  {
   "cell_type": "code",
   "execution_count": 5,
   "id": "56464000",
   "metadata": {},
   "outputs": [
    {
     "data": {
      "text/plain": [
       "LinearRegression()"
      ]
     },
     "execution_count": 5,
     "metadata": {},
     "output_type": "execute_result"
    }
   ],
   "source": [
    "model = LinearRegression()\n",
    "\n",
    "model.fit(x_train,y_train)"
   ]
  },
  {
   "cell_type": "code",
   "execution_count": 6,
   "id": "a93295b1",
   "metadata": {},
   "outputs": [],
   "source": [
    "y_pred = model.predict(x_test)\n",
    "R2 = r2_score(y_test,y_pred)\n",
    "MAE = mean_absolute_error(y_test,y_pred)\n",
    "MSE = mean_squared_error(y_test,y_pred)"
   ]
  },
  {
   "cell_type": "code",
   "execution_count": 7,
   "id": "c5535836",
   "metadata": {},
   "outputs": [
    {
     "name": "stdout",
     "output_type": "stream",
     "text": [
      "R2 = 0.824 and MAE = 22381.126\n"
     ]
    }
   ],
   "source": [
    "print(f'R2 = {round(R2,3)} and MAE = {round(MAE,3)}')"
   ]
  },
  {
   "cell_type": "code",
   "execution_count": 8,
   "id": "60cf640b",
   "metadata": {},
   "outputs": [
    {
     "data": {
      "text/plain": [
       "array([-4.90756250e+04, -6.73956846e+03, -7.59648074e+03, -8.55678203e+03,\n",
       "        1.61302865e+04,  2.61707306e+03,  1.51975228e+03,  1.80082028e+04,\n",
       "        9.11911666e+04,  7.21196461e+03, -4.60617895e+02,  6.29140727e+04,\n",
       "        1.36620493e+03, -1.26685364e+05, -3.09550968e+04, -4.63467154e+02,\n",
       "        9.46922189e+04,  4.16587625e+04, -4.05036073e+03, -3.55190340e+03,\n",
       "        1.11559618e+04,  3.87413616e+04,  1.25929024e+03,  6.34100807e+03,\n",
       "       -7.25463460e+03,  3.58544698e+04,  6.78307864e+03, -1.59337739e+03,\n",
       "       -1.08452020e+03,  2.37390285e+04, -1.69000345e+04,  2.23671720e+04,\n",
       "       -4.14411037e+03, -1.37047520e+15,  1.14477071e+04, -3.57916449e+14,\n",
       "       -5.67227154e+14,  1.48362924e+15,  1.33486418e+04,  8.34218845e+03,\n",
       "       -2.22484773e+03, -2.00209162e+04, -1.72310838e+14, -8.16479763e+13,\n",
       "       -2.26162918e+13,  2.09872861e+14,  1.97090904e+04, -1.06391400e+04,\n",
       "        7.78115929e+03,  7.48368745e+03, -5.90745665e+04, -5.85622788e+04,\n",
       "        4.37311824e+04,  9.63910172e+04,  7.33834311e+03,  1.59464382e+04,\n",
       "       -8.41645945e+03, -8.27384401e+03, -3.14985763e+04,  9.38023205e+03,\n",
       "        5.37318870e+04, -6.02278561e+03,  4.54281530e+04, -7.93025279e+03,\n",
       "       -1.47282439e+03,  2.09157229e+04,  1.54349334e+03, -5.38380603e+03,\n",
       "        2.80018016e+03,  4.95846578e+04, -3.66769232e+05,  4.30147276e+05,\n",
       "        1.77695483e+03, -1.18543256e+04, -2.00056305e+03, -2.22038723e+03,\n",
       "        2.07330115e+03,  2.22555660e+04,  1.35070435e+04])"
      ]
     },
     "execution_count": 8,
     "metadata": {},
     "output_type": "execute_result"
    }
   ],
   "source": [
    "model.coef_"
   ]
  },
  {
   "cell_type": "markdown",
   "id": "2d4ed0fe",
   "metadata": {},
   "source": [
    "## mean R2"
   ]
  },
  {
   "cell_type": "code",
   "execution_count": 17,
   "id": "dd54c801",
   "metadata": {},
   "outputs": [
    {
     "name": "stdout",
     "output_type": "stream",
     "text": [
      "0.776719808297895\n"
     ]
    },
    {
     "data": {
      "image/png": "[encoded data removed]",
      "text/plain": [
       "<Figure size 432x288 with 1 Axes>"
      ]
     },
     "metadata": {
      "needs_background": "light"
     },
     "output_type": "display_data"
    }
   ],
   "source": [
    "R2s = list()\n",
    "MAEs = list()\n",
    "for i in range(8):\n",
    "    # Create train/test\n",
    "    x_train, x_test, y_train, y_test = train_test_split(    \n",
    "        x, y, test_size=0.2, random_state=i)\n",
    "    # start model\n",
    "    model = LinearRegression()\n",
    "    # fit model\n",
    "    model.fit(x_train,y_train)\n",
    "    # predictions\n",
    "    y_pred = model.predict(x_test)\n",
    "    R2 = r2_score(y_test,y_pred)\n",
    "    MAE = mean_absolute_error(y_test,y_pred)\n",
    "    R2s.append(R2)\n",
    "    MAEs.append(MAE)\n",
    "plt.plot(R2s)\n",
    "print(np.mean(R2s))"
   ]
  },
  {
   "cell_type": "markdown",
   "id": "f79f4d37",
   "metadata": {},
   "source": [
    "# Making predictions"
   ]
  },
  {
   "cell_type": "code",
   "execution_count": 10,
   "id": "3efe690a",
   "metadata": {},
   "outputs": [
    {
     "data": {
      "text/html": [
       "<div>\n",
       "<style scoped>\n",
       "    .dataframe tbody tr th:only-of-type {\n",
       "        vertical-align: middle;\n",
       "    }\n",
       "\n",
       "    .dataframe tbody tr th {\n",
       "        vertical-align: top;\n",
       "    }\n",
       "\n",
       "    .dataframe thead th {\n",
       "        text-align: right;\n",
       "    }\n",
       "</style>\n",
       "<table border=\"1\" class=\"dataframe\">\n",
       "  <thead>\n",
       "    <tr style=\"text-align: right;\">\n",
       "      <th></th>\n",
       "      <th>Unnamed: 0</th>\n",
       "      <th>Id</th>\n",
       "      <th>MSSubClass</th>\n",
       "      <th>MSZoning</th>\n",
       "      <th>LotFrontage</th>\n",
       "      <th>LotArea</th>\n",
       "      <th>Street</th>\n",
       "      <th>Alley</th>\n",
       "      <th>LotShape</th>\n",
       "      <th>LandContour</th>\n",
       "      <th>...</th>\n",
       "      <th>ScreenPorch</th>\n",
       "      <th>PoolArea</th>\n",
       "      <th>PoolQC</th>\n",
       "      <th>Fence</th>\n",
       "      <th>MiscFeature</th>\n",
       "      <th>MiscVal</th>\n",
       "      <th>MoSold</th>\n",
       "      <th>YrSold</th>\n",
       "      <th>SaleType</th>\n",
       "      <th>SaleCondition</th>\n",
       "    </tr>\n",
       "  </thead>\n",
       "  <tbody>\n",
       "    <tr>\n",
       "      <th>0</th>\n",
       "      <td>0</td>\n",
       "      <td>1461</td>\n",
       "      <td>-56.815502</td>\n",
       "      <td>-2.210544</td>\n",
       "      <td>-57.368806</td>\n",
       "      <td>-10507.754086</td>\n",
       "      <td>0.004135</td>\n",
       "      <td>-0.903515</td>\n",
       "      <td>-0.430737</td>\n",
       "      <td>-0.716977</td>\n",
       "      <td>...</td>\n",
       "      <td>-14.904376</td>\n",
       "      <td>-2.776017</td>\n",
       "      <td>-0.008959</td>\n",
       "      <td>-3.100965</td>\n",
       "      <td>-2.177636</td>\n",
       "      <td>-43.758787</td>\n",
       "      <td>-5.773636</td>\n",
       "      <td>-1505.3153</td>\n",
       "      <td>-3.777739</td>\n",
       "      <td>-3.029083</td>\n",
       "    </tr>\n",
       "    <tr>\n",
       "      <th>1</th>\n",
       "      <td>1</td>\n",
       "      <td>1462</td>\n",
       "      <td>-56.815502</td>\n",
       "      <td>-1.960544</td>\n",
       "      <td>-57.365611</td>\n",
       "      <td>-10507.741723</td>\n",
       "      <td>0.004135</td>\n",
       "      <td>-0.903515</td>\n",
       "      <td>-0.097404</td>\n",
       "      <td>-0.716977</td>\n",
       "      <td>...</td>\n",
       "      <td>-15.154376</td>\n",
       "      <td>-2.776017</td>\n",
       "      <td>-0.008959</td>\n",
       "      <td>-2.600965</td>\n",
       "      <td>-2.427636</td>\n",
       "      <td>-42.952335</td>\n",
       "      <td>-5.773636</td>\n",
       "      <td>-1505.3153</td>\n",
       "      <td>-3.777739</td>\n",
       "      <td>-3.029083</td>\n",
       "    </tr>\n",
       "    <tr>\n",
       "      <th>2</th>\n",
       "      <td>2</td>\n",
       "      <td>1463</td>\n",
       "      <td>-56.580208</td>\n",
       "      <td>-1.960544</td>\n",
       "      <td>-57.387975</td>\n",
       "      <td>-10507.743765</td>\n",
       "      <td>0.004135</td>\n",
       "      <td>-0.903515</td>\n",
       "      <td>-0.097404</td>\n",
       "      <td>-0.716977</td>\n",
       "      <td>...</td>\n",
       "      <td>-15.154376</td>\n",
       "      <td>-2.776017</td>\n",
       "      <td>-0.008959</td>\n",
       "      <td>-3.100965</td>\n",
       "      <td>-2.177636</td>\n",
       "      <td>-43.758787</td>\n",
       "      <td>-6.046363</td>\n",
       "      <td>-1505.3153</td>\n",
       "      <td>-3.777739</td>\n",
       "      <td>-3.029083</td>\n",
       "    </tr>\n",
       "    <tr>\n",
       "      <th>3</th>\n",
       "      <td>3</td>\n",
       "      <td>1464</td>\n",
       "      <td>-56.580208</td>\n",
       "      <td>-1.960544</td>\n",
       "      <td>-57.375196</td>\n",
       "      <td>-10507.761770</td>\n",
       "      <td>0.004135</td>\n",
       "      <td>-0.903515</td>\n",
       "      <td>-0.097404</td>\n",
       "      <td>-0.716977</td>\n",
       "      <td>...</td>\n",
       "      <td>-15.154376</td>\n",
       "      <td>-2.776017</td>\n",
       "      <td>-0.008959</td>\n",
       "      <td>-2.600965</td>\n",
       "      <td>-2.177636</td>\n",
       "      <td>-43.758787</td>\n",
       "      <td>-5.773636</td>\n",
       "      <td>-1505.3153</td>\n",
       "      <td>-3.777739</td>\n",
       "      <td>-3.029083</td>\n",
       "    </tr>\n",
       "    <tr>\n",
       "      <th>4</th>\n",
       "      <td>4</td>\n",
       "      <td>1465</td>\n",
       "      <td>-56.227267</td>\n",
       "      <td>-1.960544</td>\n",
       "      <td>-57.487017</td>\n",
       "      <td>-10507.785014</td>\n",
       "      <td>0.004135</td>\n",
       "      <td>-0.903515</td>\n",
       "      <td>-0.097404</td>\n",
       "      <td>-0.050310</td>\n",
       "      <td>...</td>\n",
       "      <td>-14.854376</td>\n",
       "      <td>-2.776017</td>\n",
       "      <td>-0.008959</td>\n",
       "      <td>-2.600965</td>\n",
       "      <td>-2.177636</td>\n",
       "      <td>-43.758787</td>\n",
       "      <td>-6.228181</td>\n",
       "      <td>-1505.3153</td>\n",
       "      <td>-3.777739</td>\n",
       "      <td>-3.029083</td>\n",
       "    </tr>\n",
       "  </tbody>\n",
       "</table>\n",
       "<p>5 rows × 81 columns</p>\n",
       "</div>"
      ],
      "text/plain": [
       "   Unnamed: 0    Id  MSSubClass  MSZoning  LotFrontage       LotArea  \\\n",
       "0           0  1461  -56.815502 -2.210544   -57.368806 -10507.754086   \n",
       "1           1  1462  -56.815502 -1.960544   -57.365611 -10507.741723   \n",
       "2           2  1463  -56.580208 -1.960544   -57.387975 -10507.743765   \n",
       "3           3  1464  -56.580208 -1.960544   -57.375196 -10507.761770   \n",
       "4           4  1465  -56.227267 -1.960544   -57.487017 -10507.785014   \n",
       "\n",
       "     Street     Alley  LotShape  LandContour  ...  ScreenPorch  PoolArea  \\\n",
       "0  0.004135 -0.903515 -0.430737    -0.716977  ...   -14.904376 -2.776017   \n",
       "1  0.004135 -0.903515 -0.097404    -0.716977  ...   -15.154376 -2.776017   \n",
       "2  0.004135 -0.903515 -0.097404    -0.716977  ...   -15.154376 -2.776017   \n",
       "3  0.004135 -0.903515 -0.097404    -0.716977  ...   -15.154376 -2.776017   \n",
       "4  0.004135 -0.903515 -0.097404    -0.050310  ...   -14.854376 -2.776017   \n",
       "\n",
       "     PoolQC     Fence  MiscFeature    MiscVal    MoSold     YrSold  SaleType  \\\n",
       "0 -0.008959 -3.100965    -2.177636 -43.758787 -5.773636 -1505.3153 -3.777739   \n",
       "1 -0.008959 -2.600965    -2.427636 -42.952335 -5.773636 -1505.3153 -3.777739   \n",
       "2 -0.008959 -3.100965    -2.177636 -43.758787 -6.046363 -1505.3153 -3.777739   \n",
       "3 -0.008959 -2.600965    -2.177636 -43.758787 -5.773636 -1505.3153 -3.777739   \n",
       "4 -0.008959 -2.600965    -2.177636 -43.758787 -6.228181 -1505.3153 -3.777739   \n",
       "\n",
       "   SaleCondition  \n",
       "0      -3.029083  \n",
       "1      -3.029083  \n",
       "2      -3.029083  \n",
       "3      -3.029083  \n",
       "4      -3.029083  \n",
       "\n",
       "[5 rows x 81 columns]"
      ]
     },
     "execution_count": 10,
     "metadata": {},
     "output_type": "execute_result"
    }
   ],
   "source": [
    "test.head()"
   ]
  },
  {
   "cell_type": "code",
   "execution_count": 11,
   "id": "b2eb9fee",
   "metadata": {},
   "outputs": [
    {
     "data": {
      "text/plain": [
       "0       1461\n",
       "1       1462\n",
       "2       1463\n",
       "3       1464\n",
       "4       1465\n",
       "        ... \n",
       "1454    2915\n",
       "1455    2916\n",
       "1456    2917\n",
       "1457    2918\n",
       "1458    2919\n",
       "Name: Id, Length: 1459, dtype: int64"
      ]
     },
     "execution_count": 11,
     "metadata": {},
     "output_type": "execute_result"
    }
   ],
   "source": [
    "x_ids = test['Id']\n",
    "test_columns = test.columns.drop(['Unnamed: 0','Id'])\n",
    "x_test_2 = test[test_columns].values\n",
    "\n",
    "x_ids\n"
   ]
  },
  {
   "cell_type": "code",
   "execution_count": 12,
   "id": "da1f9ec0",
   "metadata": {},
   "outputs": [
    {
     "name": "stdout",
     "output_type": "stream",
     "text": [
      "<class 'pandas.core.frame.DataFrame'>\n",
      "RangeIndex: 1459 entries, 0 to 1458\n",
      "Data columns (total 2 columns):\n",
      " #   Column     Non-Null Count  Dtype  \n",
      "---  ------     --------------  -----  \n",
      " 0   Id         1459 non-null   int64  \n",
      " 1   SalePrice  1459 non-null   float64\n",
      "dtypes: float64(1), int64(1)\n",
      "memory usage: 22.9 KB\n"
     ]
    }
   ],
   "source": [
    "y_pred_2 = model.predict(x_test_2)\n",
    "\n",
    "final=pd.DataFrame(data={'Id':x_ids,'SalePrice':y_pred_2})\n",
    "final.info()"
   ]
  },
  {
   "cell_type": "code",
   "execution_count": 13,
   "id": "69ff9511",
   "metadata": {},
   "outputs": [],
   "source": [
    "# Run the code to save predictions in the format used for competition scoring\n",
    "\n",
    "final.to_csv('submission.csv',index=False)"
   ]
  },
  {
   "cell_type": "markdown",
   "id": "3138e962",
   "metadata": {},
   "source": [
    "# Submiting "
   ]
  },
  {
   "cell_type": "code",
   "execution_count": null,
   "id": "9a633d8c",
   "metadata": {},
   "outputs": [],
   "source": []
  }
 ],
 "metadata": {
  "kernelspec": {
   "display_name": "Python 3 (ipykernel)",
   "language": "python",
   "name": "python3"
  },
  "language_info": {
   "codemirror_mode": {
    "name": "ipython",
    "version": 3
   },
   "file_extension": ".py",
   "mimetype": "text/x-python",
   "name": "python",
   "nbconvert_exporter": "python",
   "pygments_lexer": "ipython3",
   "version": "3.9.7"
  }
 },
 "nbformat": 4,
 "nbformat_minor": 5
}
