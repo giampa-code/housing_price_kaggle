{
 "cells": [
  {
   "cell_type": "markdown",
   "id": "5c0c5014",
   "metadata": {},
   "source": [
    "## Kaggle score: 18322 (The lower the better)"
   ]
  },
  {
   "cell_type": "markdown",
   "id": "f488bec6",
   "metadata": {},
   "source": [
    "# Libraries"
   ]
  },
  {
   "cell_type": "code",
   "execution_count": 1,
   "id": "87890828",
   "metadata": {},
   "outputs": [],
   "source": [
    "import numpy as np\n",
    "import pandas as pd\n",
    "import os\n",
    "import matplotlib.pyplot as plt\n",
    "\n",
    "from sklearn.model_selection import train_test_split\n",
    "from sklearn.metrics import accuracy_score,r2_score,mean_squared_error,mean_absolute_error,auc,roc_curve,confusion_matrix\n",
    "from sklearn.linear_model import LinearRegression, Ridge"
   ]
  },
  {
   "cell_type": "code",
   "execution_count": 57,
   "id": "7ce47330",
   "metadata": {},
   "outputs": [],
   "source": [
    "train = pd.read_csv('/home/giampa95/programming/DS/housing_price_kaggle/data/train_fe_v0.csv')\n",
    "test = pd.read_csv('/home/giampa95/programming/DS/housing_price_kaggle/data/test_fe_v0.csv')"
   ]
  },
  {
   "cell_type": "markdown",
   "id": "cd0e5417",
   "metadata": {},
   "source": [
    "# Fit model"
   ]
  },
  {
   "cell_type": "markdown",
   "id": "9257cb29",
   "metadata": {},
   "source": [
    "# Define predictors and target"
   ]
  },
  {
   "cell_type": "code",
   "execution_count": 26,
   "id": "981ebd5b",
   "metadata": {},
   "outputs": [],
   "source": [
    "# Converto to numpy\n",
    "x_columns = train.columns.drop(['SalePrice','Unnamed: 0' ])\n",
    "x = train[x_columns].values\n",
    "y = train['SalePrice'].values\n"
   ]
  },
  {
   "cell_type": "markdown",
   "id": "e66019b6",
   "metadata": {},
   "source": [
    "## Split data"
   ]
  },
  {
   "cell_type": "code",
   "execution_count": 4,
   "id": "70dfdf15",
   "metadata": {},
   "outputs": [],
   "source": [
    "# Create train/test\n",
    "x_train, x_test, y_train, y_test = train_test_split(    \n",
    "    x, y, test_size=0.4, random_state=5)"
   ]
  },
  {
   "cell_type": "markdown",
   "id": "30bdc573",
   "metadata": {},
   "source": [
    "# Model"
   ]
  },
  {
   "cell_type": "code",
   "execution_count": 5,
   "id": "56464000",
   "metadata": {},
   "outputs": [
    {
     "data": {
      "text/plain": [
       "Ridge(alpha=3)"
      ]
     },
     "execution_count": 5,
     "metadata": {},
     "output_type": "execute_result"
    }
   ],
   "source": [
    "# The analysis at the bottom show that the best regularization parameter is alpha = 3 for R2\n",
    "# For minimize MAE the best alpha was 12\n",
    "\n",
    "model = Ridge(alpha=3)\n",
    "\n",
    "model.fit(x_train,y_train)"
   ]
  },
  {
   "cell_type": "code",
   "execution_count": 6,
   "id": "a93295b1",
   "metadata": {},
   "outputs": [],
   "source": [
    "y_pred = model.predict(x_test)\n",
    "R2 = r2_score(y_test,y_pred)\n",
    "MAE = mean_absolute_error(y_test,y_pred)\n",
    "MSE = mean_squared_error(y_test,y_pred)"
   ]
  },
  {
   "cell_type": "code",
   "execution_count": 7,
   "id": "c5535836",
   "metadata": {
    "scrolled": true
   },
   "outputs": [
    {
     "name": "stdout",
     "output_type": "stream",
     "text": [
      "R2 = 0.85 and MAE = 21079.716\n"
     ]
    }
   ],
   "source": [
    "print(f'R2 = {round(R2,3)} and MAE = {round(MAE,3)}')"
   ]
  },
  {
   "cell_type": "code",
   "execution_count": 8,
   "id": "ddae86d7",
   "metadata": {},
   "outputs": [
    {
     "data": {
      "text/plain": [
       "0.4837791721613362"
      ]
     },
     "execution_count": 8,
     "metadata": {},
     "output_type": "execute_result"
    }
   ],
   "source": [
    "np.mean(model.coef_**2)/1000000000"
   ]
  },
  {
   "cell_type": "code",
   "execution_count": null,
   "id": "feda98e1",
   "metadata": {},
   "outputs": [],
   "source": []
  },
  {
   "cell_type": "markdown",
   "id": "3ef0e9e9",
   "metadata": {},
   "source": [
    "## mean R2"
   ]
  },
  {
   "cell_type": "code",
   "execution_count": 10,
   "id": "b0a7f5e0",
   "metadata": {},
   "outputs": [
    {
     "name": "stdout",
     "output_type": "stream",
     "text": [
      "0.8138548358170706\n"
     ]
    },
    {
     "data": {
      "image/png": "[encoded data removed]",
      "text/plain": [
       "<Figure size 432x288 with 1 Axes>"
      ]
     },
     "metadata": {
      "needs_background": "light"
     },
     "output_type": "display_data"
    }
   ],
   "source": [
    "R2s = list()\n",
    "MAEs = list()\n",
    "for i in range(3,10):\n",
    "    # Create train/test\n",
    "    x_train, x_test, y_train, y_test = train_test_split(    \n",
    "        x, y, test_size=0.4, random_state=i)\n",
    "    # start model \n",
    "    model = Ridge(alpha=1)\n",
    "    # fit model\n",
    "    model.fit(x_train,y_train)\n",
    "    # predictions\n",
    "    y_pred = model.predict(x_test)\n",
    "    R2 = r2_score(y_test,y_pred)\n",
    "    MAE = mean_absolute_error(y_test,y_pred)\n",
    "    R2s.append(R2)\n",
    "    MAEs.append(MAE)\n",
    "plt.plot(R2s)\n",
    "print(np.mean(R2s))"
   ]
  },
  {
   "cell_type": "markdown",
   "id": "ac2e87e7",
   "metadata": {},
   "source": [
    "# Making predictions"
   ]
  },
  {
   "cell_type": "code",
   "execution_count": 11,
   "id": "b2796704",
   "metadata": {},
   "outputs": [
    {
     "data": {
      "text/html": [
       "<div>\n",
       "<style scoped>\n",
       "    .dataframe tbody tr th:only-of-type {\n",
       "        vertical-align: middle;\n",
       "    }\n",
       "\n",
       "    .dataframe tbody tr th {\n",
       "        vertical-align: top;\n",
       "    }\n",
       "\n",
       "    .dataframe thead th {\n",
       "        text-align: right;\n",
       "    }\n",
       "</style>\n",
       "<table border=\"1\" class=\"dataframe\">\n",
       "  <thead>\n",
       "    <tr style=\"text-align: right;\">\n",
       "      <th></th>\n",
       "      <th>Unnamed: 0</th>\n",
       "      <th>Id</th>\n",
       "      <th>MSSubClass</th>\n",
       "      <th>MSZoning</th>\n",
       "      <th>LotFrontage</th>\n",
       "      <th>LotArea</th>\n",
       "      <th>Street</th>\n",
       "      <th>Alley</th>\n",
       "      <th>LotShape</th>\n",
       "      <th>LandContour</th>\n",
       "      <th>...</th>\n",
       "      <th>ScreenPorch</th>\n",
       "      <th>PoolArea</th>\n",
       "      <th>PoolQC</th>\n",
       "      <th>Fence</th>\n",
       "      <th>MiscFeature</th>\n",
       "      <th>MiscVal</th>\n",
       "      <th>MoSold</th>\n",
       "      <th>YrSold</th>\n",
       "      <th>SaleType</th>\n",
       "      <th>SaleCondition</th>\n",
       "    </tr>\n",
       "  </thead>\n",
       "  <tbody>\n",
       "    <tr>\n",
       "      <th>0</th>\n",
       "      <td>0</td>\n",
       "      <td>1461</td>\n",
       "      <td>0.117647</td>\n",
       "      <td>0.50</td>\n",
       "      <td>0.255591</td>\n",
       "      <td>0.054322</td>\n",
       "      <td>1.0</td>\n",
       "      <td>1.0</td>\n",
       "      <td>0.000000</td>\n",
       "      <td>0.333333</td>\n",
       "      <td>...</td>\n",
       "      <td>0.25</td>\n",
       "      <td>0.0</td>\n",
       "      <td>0.0</td>\n",
       "      <td>0.5</td>\n",
       "      <td>0.75</td>\n",
       "      <td>0.000000</td>\n",
       "      <td>0.545455</td>\n",
       "      <td>502.5</td>\n",
       "      <td>0.5</td>\n",
       "      <td>0.8</td>\n",
       "    </tr>\n",
       "    <tr>\n",
       "      <th>1</th>\n",
       "      <td>1</td>\n",
       "      <td>1462</td>\n",
       "      <td>0.117647</td>\n",
       "      <td>0.75</td>\n",
       "      <td>0.258786</td>\n",
       "      <td>0.066685</td>\n",
       "      <td>1.0</td>\n",
       "      <td>1.0</td>\n",
       "      <td>0.333333</td>\n",
       "      <td>0.333333</td>\n",
       "      <td>...</td>\n",
       "      <td>0.00</td>\n",
       "      <td>0.0</td>\n",
       "      <td>0.0</td>\n",
       "      <td>1.0</td>\n",
       "      <td>0.50</td>\n",
       "      <td>0.806452</td>\n",
       "      <td>0.545455</td>\n",
       "      <td>502.5</td>\n",
       "      <td>0.5</td>\n",
       "      <td>0.8</td>\n",
       "    </tr>\n",
       "    <tr>\n",
       "      <th>2</th>\n",
       "      <td>2</td>\n",
       "      <td>1463</td>\n",
       "      <td>0.352941</td>\n",
       "      <td>0.75</td>\n",
       "      <td>0.236422</td>\n",
       "      <td>0.064643</td>\n",
       "      <td>1.0</td>\n",
       "      <td>1.0</td>\n",
       "      <td>0.333333</td>\n",
       "      <td>0.333333</td>\n",
       "      <td>...</td>\n",
       "      <td>0.00</td>\n",
       "      <td>0.0</td>\n",
       "      <td>0.0</td>\n",
       "      <td>0.5</td>\n",
       "      <td>0.75</td>\n",
       "      <td>0.000000</td>\n",
       "      <td>0.272727</td>\n",
       "      <td>502.5</td>\n",
       "      <td>0.5</td>\n",
       "      <td>0.8</td>\n",
       "    </tr>\n",
       "    <tr>\n",
       "      <th>3</th>\n",
       "      <td>3</td>\n",
       "      <td>1464</td>\n",
       "      <td>0.352941</td>\n",
       "      <td>0.75</td>\n",
       "      <td>0.249201</td>\n",
       "      <td>0.046638</td>\n",
       "      <td>1.0</td>\n",
       "      <td>1.0</td>\n",
       "      <td>0.333333</td>\n",
       "      <td>0.333333</td>\n",
       "      <td>...</td>\n",
       "      <td>0.00</td>\n",
       "      <td>0.0</td>\n",
       "      <td>0.0</td>\n",
       "      <td>1.0</td>\n",
       "      <td>0.75</td>\n",
       "      <td>0.000000</td>\n",
       "      <td>0.545455</td>\n",
       "      <td>502.5</td>\n",
       "      <td>0.5</td>\n",
       "      <td>0.8</td>\n",
       "    </tr>\n",
       "    <tr>\n",
       "      <th>4</th>\n",
       "      <td>4</td>\n",
       "      <td>1465</td>\n",
       "      <td>0.705882</td>\n",
       "      <td>0.75</td>\n",
       "      <td>0.137380</td>\n",
       "      <td>0.023394</td>\n",
       "      <td>1.0</td>\n",
       "      <td>1.0</td>\n",
       "      <td>0.333333</td>\n",
       "      <td>1.000000</td>\n",
       "      <td>...</td>\n",
       "      <td>0.30</td>\n",
       "      <td>0.0</td>\n",
       "      <td>0.0</td>\n",
       "      <td>1.0</td>\n",
       "      <td>0.75</td>\n",
       "      <td>0.000000</td>\n",
       "      <td>0.090909</td>\n",
       "      <td>502.5</td>\n",
       "      <td>0.5</td>\n",
       "      <td>0.8</td>\n",
       "    </tr>\n",
       "  </tbody>\n",
       "</table>\n",
       "<p>5 rows × 81 columns</p>\n",
       "</div>"
      ],
      "text/plain": [
       "   Unnamed: 0    Id  MSSubClass  MSZoning  LotFrontage   LotArea  Street  \\\n",
       "0           0  1461    0.117647      0.50     0.255591  0.054322     1.0   \n",
       "1           1  1462    0.117647      0.75     0.258786  0.066685     1.0   \n",
       "2           2  1463    0.352941      0.75     0.236422  0.064643     1.0   \n",
       "3           3  1464    0.352941      0.75     0.249201  0.046638     1.0   \n",
       "4           4  1465    0.705882      0.75     0.137380  0.023394     1.0   \n",
       "\n",
       "   Alley  LotShape  LandContour  ...  ScreenPorch  PoolArea  PoolQC  Fence  \\\n",
       "0    1.0  0.000000     0.333333  ...         0.25       0.0     0.0    0.5   \n",
       "1    1.0  0.333333     0.333333  ...         0.00       0.0     0.0    1.0   \n",
       "2    1.0  0.333333     0.333333  ...         0.00       0.0     0.0    0.5   \n",
       "3    1.0  0.333333     0.333333  ...         0.00       0.0     0.0    1.0   \n",
       "4    1.0  0.333333     1.000000  ...         0.30       0.0     0.0    1.0   \n",
       "\n",
       "   MiscFeature   MiscVal    MoSold  YrSold  SaleType  SaleCondition  \n",
       "0         0.75  0.000000  0.545455   502.5       0.5            0.8  \n",
       "1         0.50  0.806452  0.545455   502.5       0.5            0.8  \n",
       "2         0.75  0.000000  0.272727   502.5       0.5            0.8  \n",
       "3         0.75  0.000000  0.545455   502.5       0.5            0.8  \n",
       "4         0.75  0.000000  0.090909   502.5       0.5            0.8  \n",
       "\n",
       "[5 rows x 81 columns]"
      ]
     },
     "execution_count": 11,
     "metadata": {},
     "output_type": "execute_result"
    }
   ],
   "source": [
    "test.head()"
   ]
  },
  {
   "cell_type": "code",
   "execution_count": 12,
   "id": "584b2a8f",
   "metadata": {},
   "outputs": [
    {
     "data": {
      "text/plain": [
       "0       1461\n",
       "1       1462\n",
       "2       1463\n",
       "3       1464\n",
       "4       1465\n",
       "        ... \n",
       "1454    2915\n",
       "1455    2916\n",
       "1456    2917\n",
       "1457    2918\n",
       "1458    2919\n",
       "Name: Id, Length: 1459, dtype: int64"
      ]
     },
     "execution_count": 12,
     "metadata": {},
     "output_type": "execute_result"
    }
   ],
   "source": [
    "x_ids = test['Id']\n",
    "test_columns = test.columns.drop(['Unnamed: 0','Id'])\n",
    "x_test_2 = test[test_columns].values\n",
    "\n",
    "x_ids\n"
   ]
  },
  {
   "cell_type": "code",
   "execution_count": 13,
   "id": "8780a8f9",
   "metadata": {},
   "outputs": [
    {
     "name": "stdout",
     "output_type": "stream",
     "text": [
      "<class 'pandas.core.frame.DataFrame'>\n",
      "RangeIndex: 1459 entries, 0 to 1458\n",
      "Data columns (total 2 columns):\n",
      " #   Column     Non-Null Count  Dtype  \n",
      "---  ------     --------------  -----  \n",
      " 0   Id         1459 non-null   int64  \n",
      " 1   SalePrice  1459 non-null   float64\n",
      "dtypes: float64(1), int64(1)\n",
      "memory usage: 22.9 KB\n"
     ]
    }
   ],
   "source": [
    "y_pred_2 = model.predict(x_test_2)\n",
    "\n",
    "final=pd.DataFrame(data={'Id':x_ids,'SalePrice':y_pred_2})\n",
    "final.info()"
   ]
  },
  {
   "cell_type": "code",
   "execution_count": 14,
   "id": "10dd3ff3",
   "metadata": {},
   "outputs": [],
   "source": [
    "# Run the code to save predictions in the format used for competition scoring\n",
    "\n",
    "# final.to_csv('submissions/submission_regression_alpha3.csv',index=False)"
   ]
  },
  {
   "cell_type": "markdown",
   "id": "706ee415",
   "metadata": {},
   "source": [
    "# Looking for the best regularization parameter"
   ]
  },
  {
   "cell_type": "code",
   "execution_count": 15,
   "id": "4fc89d24",
   "metadata": {},
   "outputs": [
    {
     "name": "stdout",
     "output_type": "stream",
     "text": [
      "0.01: 0.8262159864460965\n",
      "0.03: 0.8295670335440163\n",
      "0.1: 0.8362110051879957\n",
      "0.3: 0.8424374194788818\n",
      "1: 0.8473773198012472\n",
      "3: 0.8497608631796425\n",
      "10: 0.8442910757683473\n",
      "30: 0.8193448319549876\n"
     ]
    },
    {
     "data": {
      "image/png": "[encoded data removed]",
      "text/plain": [
       "<Figure size 720x360 with 1 Axes>"
      ]
     },
     "metadata": {
      "needs_background": "light"
     },
     "output_type": "display_data"
    },
    {
     "data": {
      "image/png": "[encoded data removed]",
      "text/plain": [
       "<Figure size 720x360 with 1 Axes>"
      ]
     },
     "metadata": {
      "needs_background": "light"
     },
     "output_type": "display_data"
    },
    {
     "data": {
      "image/png": "[encoded data removed]",
      "text/plain": [
       "<Figure size 720x360 with 1 Axes>"
      ]
     },
     "metadata": {
      "needs_background": "light"
     },
     "output_type": "display_data"
    }
   ],
   "source": [
    "# spliting data\n",
    "# Create train/test\n",
    "x_train, x_test, y_train, y_test = train_test_split(    \n",
    "    x, y, test_size=0.4, random_state=5)\n",
    "\n",
    "lambdas = [0.01, 0.03, 0.1, 0.3, 1, 3, 10, 30] \n",
    "\n",
    "R2s = list()\n",
    "MAEs = list()\n",
    "MSEs = list()\n",
    "\n",
    "for i in lambdas:\n",
    "    #model\n",
    "    model = Ridge(alpha=i)\n",
    "    model.fit(x_train,y_train)\n",
    "    #metrics\n",
    "    y_pred = model.predict(x_test)\n",
    "    R2 = r2_score(y_test,y_pred)\n",
    "    MAE = mean_absolute_error(y_test,y_pred)\n",
    "    MSE = mean_squared_error(y_test, y_pred)\n",
    "    R2s.append(R2)\n",
    "    MAEs.append(MAE)\n",
    "    MSEs.append(MSE)\n",
    "    print(f'{i}: {R2}')\n",
    "    \n",
    "# Plot R2\n",
    "plt.figure(figsize=(10,5));    \n",
    "plt.plot(lambdas,R2s,'-o');\n",
    "plt.xlabel(\"lambda\");\n",
    "plt.ylabel(\"R2\");\n",
    "plt.title(\"R2 score varying regularization parameter\");\n",
    "plt.grid(True, which=\"both\", ls=\"-\");\n",
    "plt.semilogx();\n",
    "\n",
    "# Plot MAEs\n",
    "plt.figure(figsize=(10,5));\n",
    "plt.plot(lambdas,MAEs,'-o');\n",
    "plt.xlabel(\"lambda\");\n",
    "plt.ylabel(\"MAE\");\n",
    "plt.title(\"MAE score varying regularization parameter\");\n",
    "plt.grid(True, which=\"both\", ls=\"-\");\n",
    "plt.semilogx();\n",
    "\n",
    "# Plot MSEs\n",
    "plt.figure(figsize=(10,5));\n",
    "plt.plot(lambdas,MSEs,'-o');\n",
    "plt.xlabel(\"lambda\");\n",
    "plt.ylabel(\"MSE\");\n",
    "plt.title(\"MSE score varying regularization parameter\");\n",
    "plt.grid(True, which=\"both\", ls=\"-\");\n",
    "plt.semilogx();"
   ]
  },
  {
   "cell_type": "code",
   "execution_count": 16,
   "id": "550b6a9e",
   "metadata": {},
   "outputs": [
    {
     "name": "stdout",
     "output_type": "stream",
     "text": [
      "0.8426547989337967\n"
     ]
    },
    {
     "data": {
      "image/png": "[encoded data removed]",
      "text/plain": [
       "<Figure size 720x360 with 1 Axes>"
      ]
     },
     "metadata": {
      "needs_background": "light"
     },
     "output_type": "display_data"
    },
    {
     "data": {
      "image/png": "[encoded data removed]",
      "text/plain": [
       "<Figure size 720x360 with 1 Axes>"
      ]
     },
     "metadata": {
      "needs_background": "light"
     },
     "output_type": "display_data"
    }
   ],
   "source": [
    "# spliting data\n",
    "# Create train/test\n",
    "x_train, x_test, y_train, y_test = train_test_split(    \n",
    "    x, y, test_size=0.4, random_state=5)\n",
    "\n",
    "lambdas = [1, 2,3,4,5,6,7,8,9,10,11,12,13,14,15,16,17,18,19,20] \n",
    "\n",
    "R2s = list()\n",
    "MAEs = list()\n",
    "MSEs = list()\n",
    "\n",
    "for i in lambdas:\n",
    "    #model\n",
    "    model = Ridge(alpha=i)\n",
    "    model.fit(x_train,y_train)\n",
    "    #metrics\n",
    "    y_pred = model.predict(x_test)\n",
    "    R2 = r2_score(y_test,y_pred)\n",
    "    MAE = mean_absolute_error(y_test,y_pred)\n",
    "    R2s.append(R2)\n",
    "    MAEs.append(MAE)\n",
    "\n",
    "print(np.mean(R2s))\n",
    "    \n",
    "# Plot R2\n",
    "plt.figure(figsize=(10,5));    \n",
    "plt.plot(lambdas,R2s,'-o');\n",
    "plt.xlabel(\"lambda\");\n",
    "plt.ylabel(\"R2\");\n",
    "plt.title(\"R2 score varying regularization parameter\");\n",
    "plt.grid(True, which=\"both\", ls=\"-\");\n",
    "plt.semilogx();\n",
    "\n",
    "# Plot MAEs\n",
    "plt.figure(figsize=(10,5));\n",
    "plt.plot(lambdas,MAEs,'-o');\n",
    "plt.xlabel(\"lambda\");\n",
    "plt.ylabel(\"MAE\");\n",
    "plt.title(\"MAE score varying regularization parameter\");\n",
    "plt.grid(True, which=\"both\", ls=\"-\");\n",
    "plt.semilogx();"
   ]
  },
  {
   "cell_type": "markdown",
   "id": "e85be6da",
   "metadata": {},
   "source": [
    "# More relevant features\n",
    "\n",
    "As the features values are regularized, in some degree we can evaluate the most important features by looking at their absolute values.\n",
    "I will consider the most revelant features the ones that summed up count for the 80% of the weights.\n",
    "\n",
    "In this features I will add extra columns including different powers (2,0.5, etc)\n"
   ]
  },
  {
   "cell_type": "code",
   "execution_count": 58,
   "id": "dc167120",
   "metadata": {},
   "outputs": [
    {
     "data": {
      "text/plain": [
       "{'Neighborhood': 45492.02679728461,\n",
       " 'OverallQual': 42743.0197082377,\n",
       " 'KitchenQual': 37148.53389140574,\n",
       " 'TotRmsAbvGrd': 32549.965638982125,\n",
       " 'GrLivArea': 31226.725652465317,\n",
       " 'GarageCars': 29216.049083333197,\n",
       " '2ndFlrSF': 25459.692411939264,\n",
       " '1stFlrSF': 25151.124918252204,\n",
       " 'ExterQual': 24753.91934913486,\n",
       " 'BsmtExposure': 23206.38503127281,\n",
       " 'GarageArea': 22071.884506986633,\n",
       " 'BsmtQual': 21757.22482939901,\n",
       " 'FullBath': 20215.957318896333,\n",
       " 'RoofStyle': 19993.46903530018,\n",
       " 'BsmtFullBath': 19839.032417332364,\n",
       " 'Fireplaces': 19760.06562549134,\n",
       " 'MSSubClass': 19339.58421263903,\n",
       " 'ScreenPorch': 18760.901296107255,\n",
       " 'MasVnrArea': 18008.209076621588,\n",
       " 'BsmtFinSF1': 17641.960703324145,\n",
       " 'TotalBsmtSF': 15683.72923845554,\n",
       " 'FireplaceQu': 14760.190226623168,\n",
       " 'OverallCond': 14086.293103113152,\n",
       " 'SaleType': 13092.965876595885,\n",
       " 'WoodDeckSF': 12166.631573068975,\n",
       " 'PoolQC': 11893.811723350722,\n",
       " 'RoofMatl': 11674.90081997215,\n",
       " 'HalfBath': 10576.6464405095,\n",
       " 'LandContour': 10207.905440279685,\n",
       " 'LotFrontage': 9919.811592203141,\n",
       " 'LotShape': 8685.225114870429,\n",
       " 'HeatingQC': 8306.328311754707,\n",
       " 'GarageFinish': 8229.640532081328,\n",
       " 'MasVnrType': 7749.856416532939,\n",
       " 'GarageYrBlt': 7646.482582546358,\n",
       " 'LotConfig': 6904.875257441689,\n",
       " 'YearRemodAdd': 6702.576764045221,\n",
       " 'OpenPorchSF': 6591.117224938879,\n",
       " 'Functional': 6313.141292491534,\n",
       " 'LowQualFinSF': 6238.798144907923,\n",
       " 'SaleCondition': 5794.827974631099,\n",
       " 'BsmtHalfBath': 4921.697800322465,\n",
       " 'LotArea': 4824.589205618984,\n",
       " 'LandSlope': 4386.526387475335,\n",
       " 'PoolArea': 3878.3707538351564,\n",
       " 'Condition2': 3696.9826938505526,\n",
       " 'BsmtUnfSF': 3263.9068133126043,\n",
       " 'Utilities': 3167.322047222142,\n",
       " 'Foundation': 3045.2644939407182,\n",
       " 'Exterior2nd': 2747.142345104502,\n",
       " 'MoSold': 2719.4883206764052,\n",
       " 'MSZoning': 2709.551093179414,\n",
       " 'ExterCond': 2672.4401724498493,\n",
       " 'YearBuilt': 2645.0482370450936,\n",
       " 'BsmtFinSF2': 2632.866861125763,\n",
       " 'BsmtFinType1': 2269.9273924923596,\n",
       " 'Street': 2213.0737528806085,\n",
       " 'BedroomAbvGr': 2112.0096237773473,\n",
       " 'GarageType': 2095.7232801893333,\n",
       " 'EnclosedPorch': 2091.155028428824,\n",
       " 'GarageQual': 2030.3929371486488,\n",
       " 'Electrical': 1905.095108600608,\n",
       " 'Exterior1st': 1900.7231409724184,\n",
       " 'MiscFeature': 1898.1237942234127,\n",
       " 'HouseStyle': 1840.4501097156246,\n",
       " 'GarageCond': 1591.0629809954119,\n",
       " 'Condition1': 1534.966800786783,\n",
       " 'Alley': 1507.8613936999693,\n",
       " 'BsmtCond': 1346.328510250572,\n",
       " 'Heating': 1205.2214933654368,\n",
       " 'BsmtFinType2': 1063.4657278835075,\n",
       " 'Fence': 1006.9274334226658,\n",
       " '3SsnPorch': 916.6728049718067,\n",
       " 'KitchenAbvGr': 863.3277522374087,\n",
       " 'BldgType': 842.2408575577934,\n",
       " 'PavedDrive': 709.1176200680387,\n",
       " 'MiscVal': 418.0496449541136,\n",
       " 'CentralAir': 250.82963418372427,\n",
       " 'YrSold': 178.2444555221427}"
      ]
     },
     "execution_count": 58,
     "metadata": {},
     "output_type": "execute_result"
    }
   ],
   "source": [
    "coef_dict = dict()\n",
    "\n",
    "for i in range(len(x_columns)):\n",
    "    coef_dict[x_columns[i]] = abs(model.coef_[i])\n",
    "\n",
    "# sorting the dict by values\n",
    "coef_dict={key: val for key, val in sorted(coef_dict.items(), key = lambda ele: ele[1], reverse = True)}\n",
    "#list(coef_dict.keys())\n",
    "coef_dict"
   ]
  },
  {
   "cell_type": "code",
   "execution_count": 60,
   "id": "ebf69c2a",
   "metadata": {},
   "outputs": [
    {
     "data": {
      "image/png": "[encoded data removed]",
      "text/plain": [
       "<Figure size 432x288 with 1 Axes>"
      ]
     },
     "metadata": {
      "needs_background": "light"
     },
     "output_type": "display_data"
    }
   ],
   "source": [
    "acum_plot = []\n",
    "acumulator = 0\n",
    "for i in list(coef_dict.values()):\n",
    "    acumulator+=i\n",
    "    acum_plot.append(acumulator)\n",
    "plt.plot(acum_plot/acumulator);"
   ]
  },
  {
   "cell_type": "code",
   "execution_count": 74,
   "id": "68f5ea58",
   "metadata": {},
   "outputs": [
    {
     "name": "stdout",
     "output_type": "stream",
     "text": [
      "29\n"
     ]
    }
   ],
   "source": [
    "max_index = 0\n",
    "for i,a in enumerate(acum_plot/acumulator):\n",
    "    if a<0.8:\n",
    "        max_index = i\n",
    "print(max_index)\n",
    "most_relevant_features = list(coef_dict.keys())[0:max_index]"
   ]
  },
  {
   "cell_type": "code",
   "execution_count": 81,
   "id": "003b32ab",
   "metadata": {},
   "outputs": [
    {
     "data": {
      "text/plain": [
       "['Neighborhood',\n",
       " 'OverallQual',\n",
       " 'KitchenQual',\n",
       " 'TotRmsAbvGrd',\n",
       " 'GrLivArea',\n",
       " 'GarageCars',\n",
       " '2ndFlrSF',\n",
       " '1stFlrSF',\n",
       " 'ExterQual',\n",
       " 'BsmtExposure',\n",
       " 'GarageArea',\n",
       " 'BsmtQual',\n",
       " 'FullBath',\n",
       " 'RoofStyle',\n",
       " 'BsmtFullBath',\n",
       " 'Fireplaces',\n",
       " 'MSSubClass',\n",
       " 'ScreenPorch',\n",
       " 'MasVnrArea',\n",
       " 'BsmtFinSF1',\n",
       " 'TotalBsmtSF',\n",
       " 'FireplaceQu',\n",
       " 'OverallCond',\n",
       " 'SaleType',\n",
       " 'WoodDeckSF',\n",
       " 'PoolQC',\n",
       " 'RoofMatl',\n",
       " 'HalfBath',\n",
       " 'LandContour']"
      ]
     },
     "execution_count": 81,
     "metadata": {},
     "output_type": "execute_result"
    }
   ],
   "source": [
    "most_relevant_features"
   ]
  },
  {
   "cell_type": "code",
   "execution_count": null,
   "id": "24dc444a",
   "metadata": {},
   "outputs": [],
   "source": []
  },
  {
   "cell_type": "code",
   "execution_count": null,
   "id": "2668af94",
   "metadata": {},
   "outputs": [],
   "source": []
  }
 ],
 "metadata": {
  "kernelspec": {
   "display_name": "Python 3 (ipykernel)",
   "language": "python",
   "name": "python3"
  },
  "language_info": {
   "codemirror_mode": {
    "name": "ipython",
    "version": 3
   },
   "file_extension": ".py",
   "mimetype": "text/x-python",
   "name": "python",
   "nbconvert_exporter": "python",
   "pygments_lexer": "ipython3",
   "version": "3.9.7"
  }
 },
 "nbformat": 4,
 "nbformat_minor": 5
}
