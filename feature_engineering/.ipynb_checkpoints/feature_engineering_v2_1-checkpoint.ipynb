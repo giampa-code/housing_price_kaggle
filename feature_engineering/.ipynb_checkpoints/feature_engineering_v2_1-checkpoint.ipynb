{
 "cells": [
  {
   "cell_type": "markdown",
   "id": "af91d776",
   "metadata": {},
   "source": [
    "# Notes"
   ]
  },
  {
   "cell_type": "markdown",
   "id": "12fe7077",
   "metadata": {},
   "source": []
  },
  {
   "cell_type": "markdown",
   "id": "d50de6c6",
   "metadata": {},
   "source": [
    "# Libraries"
   ]
  },
  {
   "cell_type": "code",
   "execution_count": 1,
   "id": "3cc766a8",
   "metadata": {},
   "outputs": [],
   "source": [
    "import numpy as np\n",
    "import pandas as pd\n",
    "import os\n",
    "import seaborn as sns\n",
    "sns.set(font_scale=1)\n",
    "import matplotlib.pyplot as plt"
   ]
  },
  {
   "cell_type": "markdown",
   "id": "cab4c8ca",
   "metadata": {},
   "source": [
    "# Load Data"
   ]
  },
  {
   "cell_type": "code",
   "execution_count": 2,
   "id": "177c9b85",
   "metadata": {},
   "outputs": [
    {
     "name": "stdout",
     "output_type": "stream",
     "text": [
      "['train.csv.gz', 'sample_submission.csv', 'sample_submission.csv.gz', 'home-data-for-ml-course-publicleaderboard.csv', 'data_description.txt', 'test.csv.gz', 'test.csv', 'train.csv']\n"
     ]
    }
   ],
   "source": [
    "# Data reading OK\n",
    "print(os.listdir(\"../home-data-for-ml-course\"))"
   ]
  },
  {
   "cell_type": "code",
   "execution_count": 3,
   "id": "245e8f2d",
   "metadata": {},
   "outputs": [],
   "source": [
    "# Loading data\n",
    "\n",
    "train=pd.read_csv('../home-data-for-ml-course/train.csv')\n",
    "test=pd.read_csv('../home-data-for-ml-course/test.csv')"
   ]
  },
  {
   "cell_type": "markdown",
   "id": "c8ce7964",
   "metadata": {},
   "source": [
    "# Data Analysis"
   ]
  },
  {
   "cell_type": "code",
   "execution_count": 4,
   "id": "3718a8c7",
   "metadata": {},
   "outputs": [
    {
     "data": {
      "text/html": [
       "<div>\n",
       "<style scoped>\n",
       "    .dataframe tbody tr th:only-of-type {\n",
       "        vertical-align: middle;\n",
       "    }\n",
       "\n",
       "    .dataframe tbody tr th {\n",
       "        vertical-align: top;\n",
       "    }\n",
       "\n",
       "    .dataframe thead th {\n",
       "        text-align: right;\n",
       "    }\n",
       "</style>\n",
       "<table border=\"1\" class=\"dataframe\">\n",
       "  <thead>\n",
       "    <tr style=\"text-align: right;\">\n",
       "      <th></th>\n",
       "      <th>MSSubClass</th>\n",
       "      <th>MSZoning</th>\n",
       "      <th>LotFrontage</th>\n",
       "      <th>LotArea</th>\n",
       "      <th>Street</th>\n",
       "      <th>Alley</th>\n",
       "      <th>LotShape</th>\n",
       "      <th>LandContour</th>\n",
       "      <th>Utilities</th>\n",
       "      <th>LotConfig</th>\n",
       "      <th>...</th>\n",
       "      <th>PoolArea</th>\n",
       "      <th>PoolQC</th>\n",
       "      <th>Fence</th>\n",
       "      <th>MiscFeature</th>\n",
       "      <th>MiscVal</th>\n",
       "      <th>MoSold</th>\n",
       "      <th>YrSold</th>\n",
       "      <th>SaleType</th>\n",
       "      <th>SaleCondition</th>\n",
       "      <th>SalePrice</th>\n",
       "    </tr>\n",
       "  </thead>\n",
       "  <tbody>\n",
       "    <tr>\n",
       "      <th>0</th>\n",
       "      <td>60</td>\n",
       "      <td>RL</td>\n",
       "      <td>65.0</td>\n",
       "      <td>8450</td>\n",
       "      <td>Pave</td>\n",
       "      <td>NaN</td>\n",
       "      <td>Reg</td>\n",
       "      <td>Lvl</td>\n",
       "      <td>AllPub</td>\n",
       "      <td>Inside</td>\n",
       "      <td>...</td>\n",
       "      <td>0</td>\n",
       "      <td>NaN</td>\n",
       "      <td>NaN</td>\n",
       "      <td>NaN</td>\n",
       "      <td>0</td>\n",
       "      <td>2</td>\n",
       "      <td>2008</td>\n",
       "      <td>WD</td>\n",
       "      <td>Normal</td>\n",
       "      <td>208500</td>\n",
       "    </tr>\n",
       "    <tr>\n",
       "      <th>1</th>\n",
       "      <td>20</td>\n",
       "      <td>RL</td>\n",
       "      <td>80.0</td>\n",
       "      <td>9600</td>\n",
       "      <td>Pave</td>\n",
       "      <td>NaN</td>\n",
       "      <td>Reg</td>\n",
       "      <td>Lvl</td>\n",
       "      <td>AllPub</td>\n",
       "      <td>FR2</td>\n",
       "      <td>...</td>\n",
       "      <td>0</td>\n",
       "      <td>NaN</td>\n",
       "      <td>NaN</td>\n",
       "      <td>NaN</td>\n",
       "      <td>0</td>\n",
       "      <td>5</td>\n",
       "      <td>2007</td>\n",
       "      <td>WD</td>\n",
       "      <td>Normal</td>\n",
       "      <td>181500</td>\n",
       "    </tr>\n",
       "    <tr>\n",
       "      <th>2</th>\n",
       "      <td>60</td>\n",
       "      <td>RL</td>\n",
       "      <td>68.0</td>\n",
       "      <td>11250</td>\n",
       "      <td>Pave</td>\n",
       "      <td>NaN</td>\n",
       "      <td>IR1</td>\n",
       "      <td>Lvl</td>\n",
       "      <td>AllPub</td>\n",
       "      <td>Inside</td>\n",
       "      <td>...</td>\n",
       "      <td>0</td>\n",
       "      <td>NaN</td>\n",
       "      <td>NaN</td>\n",
       "      <td>NaN</td>\n",
       "      <td>0</td>\n",
       "      <td>9</td>\n",
       "      <td>2008</td>\n",
       "      <td>WD</td>\n",
       "      <td>Normal</td>\n",
       "      <td>223500</td>\n",
       "    </tr>\n",
       "    <tr>\n",
       "      <th>3</th>\n",
       "      <td>70</td>\n",
       "      <td>RL</td>\n",
       "      <td>60.0</td>\n",
       "      <td>9550</td>\n",
       "      <td>Pave</td>\n",
       "      <td>NaN</td>\n",
       "      <td>IR1</td>\n",
       "      <td>Lvl</td>\n",
       "      <td>AllPub</td>\n",
       "      <td>Corner</td>\n",
       "      <td>...</td>\n",
       "      <td>0</td>\n",
       "      <td>NaN</td>\n",
       "      <td>NaN</td>\n",
       "      <td>NaN</td>\n",
       "      <td>0</td>\n",
       "      <td>2</td>\n",
       "      <td>2006</td>\n",
       "      <td>WD</td>\n",
       "      <td>Abnorml</td>\n",
       "      <td>140000</td>\n",
       "    </tr>\n",
       "    <tr>\n",
       "      <th>4</th>\n",
       "      <td>60</td>\n",
       "      <td>RL</td>\n",
       "      <td>84.0</td>\n",
       "      <td>14260</td>\n",
       "      <td>Pave</td>\n",
       "      <td>NaN</td>\n",
       "      <td>IR1</td>\n",
       "      <td>Lvl</td>\n",
       "      <td>AllPub</td>\n",
       "      <td>FR2</td>\n",
       "      <td>...</td>\n",
       "      <td>0</td>\n",
       "      <td>NaN</td>\n",
       "      <td>NaN</td>\n",
       "      <td>NaN</td>\n",
       "      <td>0</td>\n",
       "      <td>12</td>\n",
       "      <td>2008</td>\n",
       "      <td>WD</td>\n",
       "      <td>Normal</td>\n",
       "      <td>250000</td>\n",
       "    </tr>\n",
       "  </tbody>\n",
       "</table>\n",
       "<p>5 rows × 80 columns</p>\n",
       "</div>"
      ],
      "text/plain": [
       "   MSSubClass MSZoning  LotFrontage  LotArea Street Alley LotShape  \\\n",
       "0          60       RL         65.0     8450   Pave   NaN      Reg   \n",
       "1          20       RL         80.0     9600   Pave   NaN      Reg   \n",
       "2          60       RL         68.0    11250   Pave   NaN      IR1   \n",
       "3          70       RL         60.0     9550   Pave   NaN      IR1   \n",
       "4          60       RL         84.0    14260   Pave   NaN      IR1   \n",
       "\n",
       "  LandContour Utilities LotConfig  ... PoolArea PoolQC Fence MiscFeature  \\\n",
       "0         Lvl    AllPub    Inside  ...        0    NaN   NaN         NaN   \n",
       "1         Lvl    AllPub       FR2  ...        0    NaN   NaN         NaN   \n",
       "2         Lvl    AllPub    Inside  ...        0    NaN   NaN         NaN   \n",
       "3         Lvl    AllPub    Corner  ...        0    NaN   NaN         NaN   \n",
       "4         Lvl    AllPub       FR2  ...        0    NaN   NaN         NaN   \n",
       "\n",
       "  MiscVal MoSold  YrSold  SaleType  SaleCondition  SalePrice  \n",
       "0       0      2    2008        WD         Normal     208500  \n",
       "1       0      5    2007        WD         Normal     181500  \n",
       "2       0      9    2008        WD         Normal     223500  \n",
       "3       0      2    2006        WD        Abnorml     140000  \n",
       "4       0     12    2008        WD         Normal     250000  \n",
       "\n",
       "[5 rows x 80 columns]"
      ]
     },
     "execution_count": 4,
     "metadata": {},
     "output_type": "execute_result"
    }
   ],
   "source": [
    "# Data look up\n",
    "train.drop('Id',axis=1, inplace=True)\n",
    "# do not drop test id\n",
    "#test.drop('Id',axis=1, inplace=True)\n",
    "train.head(5)"
   ]
  },
  {
   "cell_type": "code",
   "execution_count": 5,
   "id": "3931d3e0",
   "metadata": {
    "scrolled": true
   },
   "outputs": [
    {
     "name": "stdout",
     "output_type": "stream",
     "text": [
      "<class 'pandas.core.frame.DataFrame'>\n",
      "RangeIndex: 1460 entries, 0 to 1459\n",
      "Data columns (total 80 columns):\n",
      " #   Column         Non-Null Count  Dtype  \n",
      "---  ------         --------------  -----  \n",
      " 0   MSSubClass     1460 non-null   int64  \n",
      " 1   MSZoning       1460 non-null   object \n",
      " 2   LotFrontage    1201 non-null   float64\n",
      " 3   LotArea        1460 non-null   int64  \n",
      " 4   Street         1460 non-null   object \n",
      " 5   Alley          91 non-null     object \n",
      " 6   LotShape       1460 non-null   object \n",
      " 7   LandContour    1460 non-null   object \n",
      " 8   Utilities      1460 non-null   object \n",
      " 9   LotConfig      1460 non-null   object \n",
      " 10  LandSlope      1460 non-null   object \n",
      " 11  Neighborhood   1460 non-null   object \n",
      " 12  Condition1     1460 non-null   object \n",
      " 13  Condition2     1460 non-null   object \n",
      " 14  BldgType       1460 non-null   object \n",
      " 15  HouseStyle     1460 non-null   object \n",
      " 16  OverallQual    1460 non-null   int64  \n",
      " 17  OverallCond    1460 non-null   int64  \n",
      " 18  YearBuilt      1460 non-null   int64  \n",
      " 19  YearRemodAdd   1460 non-null   int64  \n",
      " 20  RoofStyle      1460 non-null   object \n",
      " 21  RoofMatl       1460 non-null   object \n",
      " 22  Exterior1st    1460 non-null   object \n",
      " 23  Exterior2nd    1460 non-null   object \n",
      " 24  MasVnrType     1452 non-null   object \n",
      " 25  MasVnrArea     1452 non-null   float64\n",
      " 26  ExterQual      1460 non-null   object \n",
      " 27  ExterCond      1460 non-null   object \n",
      " 28  Foundation     1460 non-null   object \n",
      " 29  BsmtQual       1423 non-null   object \n",
      " 30  BsmtCond       1423 non-null   object \n",
      " 31  BsmtExposure   1422 non-null   object \n",
      " 32  BsmtFinType1   1423 non-null   object \n",
      " 33  BsmtFinSF1     1460 non-null   int64  \n",
      " 34  BsmtFinType2   1422 non-null   object \n",
      " 35  BsmtFinSF2     1460 non-null   int64  \n",
      " 36  BsmtUnfSF      1460 non-null   int64  \n",
      " 37  TotalBsmtSF    1460 non-null   int64  \n",
      " 38  Heating        1460 non-null   object \n",
      " 39  HeatingQC      1460 non-null   object \n",
      " 40  CentralAir     1460 non-null   object \n",
      " 41  Electrical     1459 non-null   object \n",
      " 42  1stFlrSF       1460 non-null   int64  \n",
      " 43  2ndFlrSF       1460 non-null   int64  \n",
      " 44  LowQualFinSF   1460 non-null   int64  \n",
      " 45  GrLivArea      1460 non-null   int64  \n",
      " 46  BsmtFullBath   1460 non-null   int64  \n",
      " 47  BsmtHalfBath   1460 non-null   int64  \n",
      " 48  FullBath       1460 non-null   int64  \n",
      " 49  HalfBath       1460 non-null   int64  \n",
      " 50  BedroomAbvGr   1460 non-null   int64  \n",
      " 51  KitchenAbvGr   1460 non-null   int64  \n",
      " 52  KitchenQual    1460 non-null   object \n",
      " 53  TotRmsAbvGrd   1460 non-null   int64  \n",
      " 54  Functional     1460 non-null   object \n",
      " 55  Fireplaces     1460 non-null   int64  \n",
      " 56  FireplaceQu    770 non-null    object \n",
      " 57  GarageType     1379 non-null   object \n",
      " 58  GarageYrBlt    1379 non-null   float64\n",
      " 59  GarageFinish   1379 non-null   object \n",
      " 60  GarageCars     1460 non-null   int64  \n",
      " 61  GarageArea     1460 non-null   int64  \n",
      " 62  GarageQual     1379 non-null   object \n",
      " 63  GarageCond     1379 non-null   object \n",
      " 64  PavedDrive     1460 non-null   object \n",
      " 65  WoodDeckSF     1460 non-null   int64  \n",
      " 66  OpenPorchSF    1460 non-null   int64  \n",
      " 67  EnclosedPorch  1460 non-null   int64  \n",
      " 68  3SsnPorch      1460 non-null   int64  \n",
      " 69  ScreenPorch    1460 non-null   int64  \n",
      " 70  PoolArea       1460 non-null   int64  \n",
      " 71  PoolQC         7 non-null      object \n",
      " 72  Fence          281 non-null    object \n",
      " 73  MiscFeature    54 non-null     object \n",
      " 74  MiscVal        1460 non-null   int64  \n",
      " 75  MoSold         1460 non-null   int64  \n",
      " 76  YrSold         1460 non-null   int64  \n",
      " 77  SaleType       1460 non-null   object \n",
      " 78  SaleCondition  1460 non-null   object \n",
      " 79  SalePrice      1460 non-null   int64  \n",
      "dtypes: float64(3), int64(34), object(43)\n",
      "memory usage: 912.6+ KB\n"
     ]
    }
   ],
   "source": [
    "train.info()"
   ]
  },
  {
   "cell_type": "code",
   "execution_count": null,
   "id": "09dddf26",
   "metadata": {},
   "outputs": [],
   "source": []
  },
  {
   "cell_type": "markdown",
   "id": "d61c4bbc",
   "metadata": {},
   "source": [
    "## Treating NaN values"
   ]
  },
  {
   "cell_type": "code",
   "execution_count": 6,
   "id": "4277e99b",
   "metadata": {},
   "outputs": [
    {
     "data": {
      "text/plain": [
       "0.06341330177083808"
      ]
     },
     "execution_count": 6,
     "metadata": {},
     "output_type": "execute_result"
    }
   ],
   "source": [
    "# Calculating NaN percentage\n",
    "def nans_ratio(train):\n",
    "    \"\"\"calculate the nan ratio in a df\"\"\"\n",
    "    total_nans = train.isna().sum().sum()\n",
    "    total_cells = train.count().sum()\n",
    "    nans_ratio = total_nans / total_cells\n",
    "    return nans_ratio\n",
    "nans_ratio(train)"
   ]
  },
  {
   "cell_type": "markdown",
   "id": "d1acf413",
   "metadata": {},
   "source": [
    "### Alley"
   ]
  },
  {
   "cell_type": "code",
   "execution_count": 7,
   "id": "d86374af",
   "metadata": {},
   "outputs": [
    {
     "data": {
      "text/plain": [
       "Grvl    50\n",
       "Pave    41\n",
       "Name: Alley, dtype: int64"
      ]
     },
     "execution_count": 7,
     "metadata": {},
     "output_type": "execute_result"
    }
   ],
   "source": [
    "# the data description indicates that NA as 'No alley' ot 'Not Apply', so we will turn this NaN into 'NA'\n",
    "train['Alley'].value_counts()"
   ]
  },
  {
   "cell_type": "code",
   "execution_count": 8,
   "id": "6aa60c7e",
   "metadata": {
    "scrolled": true
   },
   "outputs": [
    {
     "data": {
      "text/plain": [
       "NA      1369\n",
       "Grvl      50\n",
       "Pave      41\n",
       "Name: Alley, dtype: int64"
      ]
     },
     "execution_count": 8,
     "metadata": {},
     "output_type": "execute_result"
    }
   ],
   "source": [
    "train['Alley'].fillna('NA', inplace=True)\n",
    "train['Alley'].value_counts()"
   ]
  },
  {
   "cell_type": "markdown",
   "id": "0c03443f",
   "metadata": {},
   "source": [
    "### Other features"
   ]
  },
  {
   "cell_type": "code",
   "execution_count": 9,
   "id": "ef7fff00",
   "metadata": {},
   "outputs": [],
   "source": [
    "# The same problems was founded in several features that include 'NA' in it's values\n",
    "# NaN values will be replaced with 'NA' in the following features\n",
    "nan_features = ['Alley','FireplaceQu', 'PoolQC','Fence','MiscFeature','GarageType','GarageFinish','GarageQual',\n",
    "                'GarageCond','BsmtQual','BsmtCond','BsmtExposure','BsmtFinType1','BsmtFinType2']\n",
    "for f in nan_features:\n",
    "    train[f].fillna('NA', inplace=True)\n",
    "    test[f].fillna('NA', inplace=True)\n",
    "    #don't forget to assign the new col to itself"
   ]
  },
  {
   "cell_type": "code",
   "execution_count": 10,
   "id": "c764fb55",
   "metadata": {},
   "outputs": [
    {
     "data": {
      "text/plain": [
       "NA    1453\n",
       "Gd       3\n",
       "Ex       2\n",
       "Fa       2\n",
       "Name: PoolQC, dtype: int64"
      ]
     },
     "execution_count": 10,
     "metadata": {},
     "output_type": "execute_result"
    }
   ],
   "source": [
    "train['PoolQC'].value_counts()"
   ]
  },
  {
   "cell_type": "code",
   "execution_count": null,
   "id": "d50f75f3",
   "metadata": {},
   "outputs": [],
   "source": []
  },
  {
   "cell_type": "code",
   "execution_count": 11,
   "id": "86ec8ec4",
   "metadata": {},
   "outputs": [],
   "source": [
    "# For 'GarageYrBlt', if there is no garage, it will be filled with 0\n",
    "# The same will be donde for 'LotFrontage', assuming that NaN is equalo to 0 or no front.\n",
    "train['GarageYrBlt'].fillna(0, inplace=True)\n",
    "test['GarageYrBlt'].fillna(0, inplace=True)\n",
    "train['LotFrontage'].fillna(0, inplace=True)\n",
    "test['LotFrontage'].fillna(0, inplace=True)"
   ]
  },
  {
   "cell_type": "code",
   "execution_count": 12,
   "id": "6b6deffa",
   "metadata": {},
   "outputs": [],
   "source": [
    "# for the test set, due to submission requirements, i will not drop the rows with nan\n",
    "# instead , I will fill the nan values with the mode\n",
    "\n",
    "# LOOK WAYS TO MAKE THIS BETTER. I.e. fill with the median/mode of a feature taking in account it relation\n",
    "# with other feature ( group_by etc)\n",
    "\n",
    "for i in test.columns:\n",
    "    if test[i].isna().any():\n",
    "        test[i]=test[i].fillna(test[i].mode()[0])"
   ]
  },
  {
   "cell_type": "code",
   "execution_count": 13,
   "id": "df00b177",
   "metadata": {},
   "outputs": [
    {
     "data": {
      "text/plain": [
       "0.00014556913249359925"
      ]
     },
     "execution_count": 13,
     "metadata": {},
     "output_type": "execute_result"
    }
   ],
   "source": [
    "# Check info\n",
    "nans_ratio(train)"
   ]
  },
  {
   "cell_type": "markdown",
   "id": "17a3fc48",
   "metadata": {},
   "source": [
    "### Drop the rest of the NaN rows\n",
    "\n",
    "To avoid further problems, the rest of the Nulls/Nans rows of the train set will be droped"
   ]
  },
  {
   "cell_type": "code",
   "execution_count": 14,
   "id": "3e082e86",
   "metadata": {},
   "outputs": [],
   "source": [
    "# Train\n",
    "train = train.dropna()\n",
    "train = train.reset_index(drop=True)\n"
   ]
  },
  {
   "cell_type": "code",
   "execution_count": 15,
   "id": "7f9d946d",
   "metadata": {},
   "outputs": [
    {
     "data": {
      "text/plain": [
       "0.0"
      ]
     },
     "execution_count": 15,
     "metadata": {},
     "output_type": "execute_result"
    }
   ],
   "source": [
    "nans_ratio(train)\n"
   ]
  },
  {
   "cell_type": "markdown",
   "id": "dc19657e",
   "metadata": {},
   "source": [
    "## Treating categorical data\n",
    "\n",
    "Because there are son many features with categorical data, using dummy for all variables will leave the df with hundreds columns more.\n",
    "Also, many of the categorical features have some ordinal properties, so we want to keep that information. Variables will be processed to asign numerical values going from 0 (worst) to n (best) (n=number of labels)\n",
    "\n",
    "I.e. \n",
    "\n",
    "AllPub\tAll public Utilities (E,G,W,& S)\t-->3\n",
    "\n",
    "NoSewr\tElectricity, Gas, and Water (Septic Tank) -->2\n",
    "\n",
    "NoSeWa\tElectricity and Gas Only  --> 1\n",
    "\n",
    "ELO\tElectricity only\t--> 0\n",
    "\n",
    "This process will be done automatically, grouping by the feature and ranking by the mean of the target (SalePrice).\n",
    "\n",
    "For more info, look at data_description.txt"
   ]
  },
  {
   "cell_type": "markdown",
   "id": "77f817da",
   "metadata": {},
   "source": [
    "### Categorical encoding function\n"
   ]
  },
  {
   "cell_type": "code",
   "execution_count": 16,
   "id": "bc0dcbb6",
   "metadata": {},
   "outputs": [
    {
     "data": {
      "text/plain": [
       "MSZoning\n",
       "C (all)     74528.000000\n",
       "RM         126316.830275\n",
       "RH         131558.375000\n",
       "RL         190720.720524\n",
       "FV         214888.129032\n",
       "Name: SalePrice, dtype: float64"
      ]
     },
     "execution_count": 16,
     "metadata": {},
     "output_type": "execute_result"
    }
   ],
   "source": [
    "#SalePrice-> group_by MSZoning -> mean\n",
    "train.groupby('MSZoning')['SalePrice'].mean().sort_values(ascending=True)"
   ]
  },
  {
   "cell_type": "code",
   "execution_count": 17,
   "id": "6178dc44",
   "metadata": {},
   "outputs": [
    {
     "data": {
      "text/plain": [
       "AllPub    1450\n",
       "NoSeWa       1\n",
       "Name: Utilities, dtype: int64"
      ]
     },
     "execution_count": 17,
     "metadata": {},
     "output_type": "execute_result"
    }
   ],
   "source": [
    "train[\"Utilities\"].value_counts()"
   ]
  },
  {
   "cell_type": "code",
   "execution_count": 18,
   "id": "507a826f",
   "metadata": {},
   "outputs": [
    {
     "data": {
      "text/plain": [
       "RL         1145\n",
       "RM          218\n",
       "FV           62\n",
       "RH           16\n",
       "C (all)      10\n",
       "Name: MSZoning, dtype: int64"
      ]
     },
     "execution_count": 18,
     "metadata": {},
     "output_type": "execute_result"
    }
   ],
   "source": [
    "train[\"MSZoning\"].value_counts()"
   ]
  },
  {
   "cell_type": "code",
   "execution_count": 19,
   "id": "8f63dd33",
   "metadata": {},
   "outputs": [
    {
     "data": {
      "text/plain": [
       "Index(['C (all)', 'RM', 'RH', 'RL', 'FV'], dtype='object', name='MSZoning')"
      ]
     },
     "execution_count": 19,
     "metadata": {},
     "output_type": "execute_result"
    }
   ],
   "source": [
    "labels = train.groupby('MSZoning')['SalePrice'].mean().sort_values(ascending=True).index\n",
    "labels"
   ]
  },
  {
   "cell_type": "code",
   "execution_count": 20,
   "id": "1567d4a8",
   "metadata": {},
   "outputs": [],
   "source": [
    "for i,label in enumerate(labels):\n",
    "    train.loc[train[\"MSZoning\"] == label, \"MSZoning\"] = int(i)\n",
    "    test.loc[test[\"MSZoning\"] == label, \"MSZoning\"] = int(i)\n",
    "train[\"MSZoning\"] = train[\"MSZoning\"].astype(int)\n",
    "test[\"MSZoning\"] = test[\"MSZoning\"].astype(int)"
   ]
  },
  {
   "cell_type": "code",
   "execution_count": 21,
   "id": "0e86341f",
   "metadata": {},
   "outputs": [
    {
     "data": {
      "text/plain": [
       "3    1145\n",
       "1     218\n",
       "4      62\n",
       "2      16\n",
       "0      10\n",
       "Name: MSZoning, dtype: int64"
      ]
     },
     "execution_count": 21,
     "metadata": {},
     "output_type": "execute_result"
    }
   ],
   "source": [
    "train[\"MSZoning\"].value_counts()"
   ]
  },
  {
   "cell_type": "code",
   "execution_count": 22,
   "id": "c34365ce",
   "metadata": {},
   "outputs": [],
   "source": [
    "def encode_categorical(feature):\n",
    "    \"\"\"\n",
    "    Giving a feature f, encodes the categorical feature\n",
    "    into integers from 0 to n-1 taking in account the \n",
    "    correlation with the target SalePrice\n",
    "    \"\"\"\n",
    "    labels = train.groupby(feature)['SalePrice'].mean().sort_values(ascending=True).index\n",
    "    for i,label in enumerate(labels):\n",
    "        train.loc[train[feature] == label, feature] = i\n",
    "        test.loc[test[feature] == label, feature] = i\n",
    "    train[feature] = train[feature].astype(int)\n",
    "    test[feature] = test[feature].astype(int)"
   ]
  },
  {
   "cell_type": "markdown",
   "id": "284774bd",
   "metadata": {},
   "source": [
    "## Ordinal categorical encoding"
   ]
  },
  {
   "cell_type": "code",
   "execution_count": 23,
   "id": "97b31090",
   "metadata": {},
   "outputs": [],
   "source": [
    "# Encoding train and test df\n",
    "\n",
    "for column in train.columns:\n",
    "    # if the dtype of the column is object\n",
    "    if train[column].dtype == 'object':\n",
    "        # encodes both train and test\n",
    "        encode_categorical(column)\n",
    "        \n",
    "# Re-encoding MSSubClass\n",
    "encode_categorical('MSSubClass')"
   ]
  },
  {
   "cell_type": "code",
   "execution_count": 24,
   "id": "9ef40ced",
   "metadata": {},
   "outputs": [
    {
     "name": "stdout",
     "output_type": "stream",
     "text": [
      "<class 'pandas.core.frame.DataFrame'>\n",
      "RangeIndex: 1459 entries, 0 to 1458\n",
      "Data columns (total 80 columns):\n",
      " #   Column         Non-Null Count  Dtype  \n",
      "---  ------         --------------  -----  \n",
      " 0   Id             1459 non-null   int64  \n",
      " 1   MSSubClass     1459 non-null   int64  \n",
      " 2   MSZoning       1459 non-null   int64  \n",
      " 3   LotFrontage    1459 non-null   float64\n",
      " 4   LotArea        1459 non-null   int64  \n",
      " 5   Street         1459 non-null   int64  \n",
      " 6   Alley          1459 non-null   int64  \n",
      " 7   LotShape       1459 non-null   int64  \n",
      " 8   LandContour    1459 non-null   int64  \n",
      " 9   Utilities      1459 non-null   int64  \n",
      " 10  LotConfig      1459 non-null   int64  \n",
      " 11  LandSlope      1459 non-null   int64  \n",
      " 12  Neighborhood   1459 non-null   int64  \n",
      " 13  Condition1     1459 non-null   int64  \n",
      " 14  Condition2     1459 non-null   int64  \n",
      " 15  BldgType       1459 non-null   int64  \n",
      " 16  HouseStyle     1459 non-null   int64  \n",
      " 17  OverallQual    1459 non-null   int64  \n",
      " 18  OverallCond    1459 non-null   int64  \n",
      " 19  YearBuilt      1459 non-null   int64  \n",
      " 20  YearRemodAdd   1459 non-null   int64  \n",
      " 21  RoofStyle      1459 non-null   int64  \n",
      " 22  RoofMatl       1459 non-null   int64  \n",
      " 23  Exterior1st    1459 non-null   int64  \n",
      " 24  Exterior2nd    1459 non-null   int64  \n",
      " 25  MasVnrType     1459 non-null   int64  \n",
      " 26  MasVnrArea     1459 non-null   float64\n",
      " 27  ExterQual      1459 non-null   int64  \n",
      " 28  ExterCond      1459 non-null   int64  \n",
      " 29  Foundation     1459 non-null   int64  \n",
      " 30  BsmtQual       1459 non-null   int64  \n",
      " 31  BsmtCond       1459 non-null   int64  \n",
      " 32  BsmtExposure   1459 non-null   int64  \n",
      " 33  BsmtFinType1   1459 non-null   int64  \n",
      " 34  BsmtFinSF1     1459 non-null   float64\n",
      " 35  BsmtFinType2   1459 non-null   int64  \n",
      " 36  BsmtFinSF2     1459 non-null   float64\n",
      " 37  BsmtUnfSF      1459 non-null   float64\n",
      " 38  TotalBsmtSF    1459 non-null   float64\n",
      " 39  Heating        1459 non-null   int64  \n",
      " 40  HeatingQC      1459 non-null   int64  \n",
      " 41  CentralAir     1459 non-null   int64  \n",
      " 42  Electrical     1459 non-null   int64  \n",
      " 43  1stFlrSF       1459 non-null   int64  \n",
      " 44  2ndFlrSF       1459 non-null   int64  \n",
      " 45  LowQualFinSF   1459 non-null   int64  \n",
      " 46  GrLivArea      1459 non-null   int64  \n",
      " 47  BsmtFullBath   1459 non-null   float64\n",
      " 48  BsmtHalfBath   1459 non-null   float64\n",
      " 49  FullBath       1459 non-null   int64  \n",
      " 50  HalfBath       1459 non-null   int64  \n",
      " 51  BedroomAbvGr   1459 non-null   int64  \n",
      " 52  KitchenAbvGr   1459 non-null   int64  \n",
      " 53  KitchenQual    1459 non-null   int64  \n",
      " 54  TotRmsAbvGrd   1459 non-null   int64  \n",
      " 55  Functional     1459 non-null   int64  \n",
      " 56  Fireplaces     1459 non-null   int64  \n",
      " 57  FireplaceQu    1459 non-null   int64  \n",
      " 58  GarageType     1459 non-null   int64  \n",
      " 59  GarageYrBlt    1459 non-null   float64\n",
      " 60  GarageFinish   1459 non-null   int64  \n",
      " 61  GarageCars     1459 non-null   float64\n",
      " 62  GarageArea     1459 non-null   float64\n",
      " 63  GarageQual     1459 non-null   int64  \n",
      " 64  GarageCond     1459 non-null   int64  \n",
      " 65  PavedDrive     1459 non-null   int64  \n",
      " 66  WoodDeckSF     1459 non-null   int64  \n",
      " 67  OpenPorchSF    1459 non-null   int64  \n",
      " 68  EnclosedPorch  1459 non-null   int64  \n",
      " 69  3SsnPorch      1459 non-null   int64  \n",
      " 70  ScreenPorch    1459 non-null   int64  \n",
      " 71  PoolArea       1459 non-null   int64  \n",
      " 72  PoolQC         1459 non-null   int64  \n",
      " 73  Fence          1459 non-null   int64  \n",
      " 74  MiscFeature    1459 non-null   int64  \n",
      " 75  MiscVal        1459 non-null   int64  \n",
      " 76  MoSold         1459 non-null   int64  \n",
      " 77  YrSold         1459 non-null   int64  \n",
      " 78  SaleType       1459 non-null   int64  \n",
      " 79  SaleCondition  1459 non-null   int64  \n",
      "dtypes: float64(11), int64(69)\n",
      "memory usage: 912.0 KB\n"
     ]
    }
   ],
   "source": [
    "test.info()"
   ]
  },
  {
   "cell_type": "markdown",
   "id": "3a7f36c8",
   "metadata": {},
   "source": [
    "## Dealing with outlier and non usefull features"
   ]
  },
  {
   "cell_type": "markdown",
   "id": "c4e65baf",
   "metadata": {},
   "source": [
    "### Visualizing data"
   ]
  },
  {
   "cell_type": "code",
   "execution_count": 25,
   "id": "31b1181f",
   "metadata": {},
   "outputs": [
    {
     "data": {
      "image/png": "[encoded data removed]",
      "text/plain": [
       "<Figure size 432x288 with 1 Axes>"
      ]
     },
     "metadata": {},
     "output_type": "display_data"
    }
   ],
   "source": [
    "sns.boxplot(x='Neighborhood',y='SalePrice',data=train);"
   ]
  },
  {
   "cell_type": "code",
   "execution_count": 26,
   "id": "07337418",
   "metadata": {},
   "outputs": [
    {
     "data": {
      "text/plain": [
       "\"\\nfor i,column in enumerate(train.columns):\\n    if train[column].dtype != 'object':\\n        plt.figure(i)\\n        #sns.boxplot(x=column,y='SalePrice',data=train);\\n        sns.scatterplot(x=column,y='SalePrice',data=train);\\n\""
      ]
     },
     "execution_count": 26,
     "metadata": {},
     "output_type": "execute_result"
    }
   ],
   "source": [
    "\"\"\"\n",
    "for i,column in enumerate(train.columns):\n",
    "    if train[column].dtype != 'object':\n",
    "        plt.figure(i)\n",
    "        #sns.boxplot(x=column,y='SalePrice',data=train);\n",
    "        sns.scatterplot(x=column,y='SalePrice',data=train);\n",
    "\"\"\""
   ]
  },
  {
   "cell_type": "markdown",
   "id": "6d217cda",
   "metadata": {},
   "source": [
    "### Conclusion from the charts\n",
    "\n",
    "- MSSubClass: should be re-encoded to find a tendency between the labels\n",
    "- LotFrontage: drop values greater than 300\n",
    "- LotArea: drop values greater than 100000\n",
    "- OverallQual: ok\n",
    "- OverallCond: ok\n",
    "- YearBuilt: ok\n",
    "- YearRemodAdd: ok\n",
    "- MasVnrArea: ok\n",
    "- BsmtFinSF1: drop values greater than 4000\n",
    "- VsmtFinSF2: ok\n",
    "- TotalBsmtSF: drop values greater than 5000\n",
    "- 1stFlrSF: drop values greater than 4000\n",
    "- 2ndFlrSF: ok\n",
    "- LowQualFinSF: Almost constant, drop feature.\n",
    "- GrLivArea: drop values greather than 4000 when the sale price is lower than 200000\n",
    "- BsmtFullBath: Drop columns\n",
    "- BsmtHalfBath: drop feature\n",
    "- FullBath: ok -> Turn this feature into Baths = FullBath + 0.75* BsmtFullBath + 0.5 * HalfBath + 0.75 BsmtHalfBath\n",
    "- HalfBath: drop feature\n",
    "- BedroomAbvGr: ok\n",
    "- KitchenAbcGr: drop\n",
    "- TotRmsAbvGrd: ok\n",
    "- Fireplaces: ok\n",
    "- GarageYrBlt: drop\n",
    "- GarageCars: ok\n",
    "- GarageArea: drop values greater than 1200 and Saleprice lower than 300000\n",
    "- WoodDeckSf: ok\n",
    "- OpenPorch: drop values greater than 500 and SalePrice lower than 200000\n",
    "- EnclosedPorch: ok\n",
    "- 3SsnPorch: constant, drop feature.\n",
    "- ScreenPorch: ok\n",
    "- PoolArea: ok\n",
    "- MiscVal: don't see much relation in this feature, drop.\n",
    "- MoSold: no aparent trend, drop.\n",
    "- YearSold: no aparent trend, drop.\n"
   ]
  },
  {
   "cell_type": "markdown",
   "id": "dd3386ee",
   "metadata": {},
   "source": [
    "### New features"
   ]
  },
  {
   "cell_type": "code",
   "execution_count": 27,
   "id": "b87b92e8",
   "metadata": {},
   "outputs": [
    {
     "data": {
      "text/plain": [
       "0       3.250\n",
       "1       2.375\n",
       "2       3.250\n",
       "3       1.750\n",
       "4       3.250\n",
       "        ...  \n",
       "1446    2.500\n",
       "1447    2.750\n",
       "1448    2.000\n",
       "1449    1.750\n",
       "1450    2.250\n",
       "Name: Bath, Length: 1451, dtype: float64"
      ]
     },
     "execution_count": 27,
     "metadata": {},
     "output_type": "execute_result"
    }
   ],
   "source": [
    "train['Bath'] = train['FullBath'] + 0.75 * train['BsmtFullBath'] + 0.5 * train['HalfBath'] + 0.375 * train['BsmtHalfBath']\n",
    "test['Bath'] = test['FullBath'] + 0.75 * test['BsmtFullBath'] + 0.5 * test['HalfBath'] + 0.375 * test['BsmtHalfBath']\n",
    "\n",
    "train['Bath']"
   ]
  },
  {
   "cell_type": "code",
   "execution_count": null,
   "id": "1769dd0d",
   "metadata": {},
   "outputs": [],
   "source": []
  },
  {
   "cell_type": "markdown",
   "id": "4c169e46",
   "metadata": {},
   "source": [
    "### Features drop"
   ]
  },
  {
   "cell_type": "code",
   "execution_count": 28,
   "id": "8596eae1",
   "metadata": {},
   "outputs": [],
   "source": [
    "# LowQualFinSF, 'BsmtFullBath', 'BsmtHalfBath', 'HalfBath', '3SsnPorch', MiscVal, 'MoSold', 'YearSold','KitchenAbvGr'\n",
    "# 'GarageYrBlt'\n",
    "try:\n",
    "    train = train.drop(['LowQualFinSF','BsmtFullBath', 'BsmtHalfBath', 'HalfBath',\n",
    "                      '3SsnPorch', 'MiscVal', 'MoSold', 'YrSold','KitchenAbvGr',\n",
    "                       'GarageYrBlt','FullBath'],axis=1)\n",
    "    test = test.drop(['LowQualFinSF','BsmtFullBath', 'BsmtHalfBath', 'HalfBath',\n",
    "                      '3SsnPorch', 'MiscVal', 'MoSold', 'YrSold','KitchenAbvGr',\n",
    "                       'GarageYrBlt','FullBath'],axis=1)\n",
    "except:\n",
    "    print('One columns does not exist.')\n"
   ]
  },
  {
   "cell_type": "markdown",
   "id": "bed1432e",
   "metadata": {},
   "source": [
    "### Train row drops"
   ]
  },
  {
   "cell_type": "code",
   "execution_count": 29,
   "id": "0370246b",
   "metadata": {},
   "outputs": [
    {
     "name": "stderr",
     "output_type": "stream",
     "text": [
      "/tmp/ipykernel_78310/3756841536.py:3: FutureWarning: In a future version of pandas all arguments of DataFrame.drop except for the argument 'labels' will be keyword-only\n",
      "  train=train.drop(train.loc[(train['LotFrontage']>300)].index,0)\n",
      "/tmp/ipykernel_78310/3756841536.py:8: FutureWarning: In a future version of pandas all arguments of DataFrame.drop except for the argument 'labels' will be keyword-only\n",
      "  train=train.drop(train.loc[(train['LotArea']>100000)].index,0)\n",
      "/tmp/ipykernel_78310/3756841536.py:13: FutureWarning: In a future version of pandas all arguments of DataFrame.drop except for the argument 'labels' will be keyword-only\n",
      "  train=train.drop(train.loc[(train['BsmtFinSF1']>4000)].index,0)\n",
      "/tmp/ipykernel_78310/3756841536.py:18: FutureWarning: In a future version of pandas all arguments of DataFrame.drop except for the argument 'labels' will be keyword-only\n",
      "  train=train.drop(train.loc[(train['TotalBsmtSF']>5000)].index,0)\n",
      "/tmp/ipykernel_78310/3756841536.py:23: FutureWarning: In a future version of pandas all arguments of DataFrame.drop except for the argument 'labels' will be keyword-only\n",
      "  train=train.drop(train.loc[(train['1stFlrSF']>4000)].index,0)\n",
      "/tmp/ipykernel_78310/3756841536.py:29: FutureWarning: In a future version of pandas all arguments of DataFrame.drop except for the argument 'labels' will be keyword-only\n",
      "  train=train.drop(train.loc[(train['GrLivArea']>4000) & (train['SalePrice']<200000)].index,0)\n",
      "/tmp/ipykernel_78310/3756841536.py:34: FutureWarning: In a future version of pandas all arguments of DataFrame.drop except for the argument 'labels' will be keyword-only\n",
      "  train=train.drop(train.loc[(train['GarageArea']>1200) & (train['SalePrice']<300000)].index,0)\n"
     ]
    }
   ],
   "source": [
    "# LotFrontage\n",
    "try:\n",
    "    train=train.drop(train.loc[(train['LotFrontage']>300)].index,0)\n",
    "except:\n",
    "    pass\n",
    "# LotArea\n",
    "try:\n",
    "    train=train.drop(train.loc[(train['LotArea']>100000)].index,0)\n",
    "except:\n",
    "    pass\n",
    "# BsmtFinSF1\n",
    "try:\n",
    "    train=train.drop(train.loc[(train['BsmtFinSF1']>4000)].index,0)\n",
    "except:\n",
    "    pass\n",
    "# TostalBsmtSF\n",
    "try:\n",
    "    train=train.drop(train.loc[(train['TotalBsmtSF']>5000)].index,0)\n",
    "except:\n",
    "    pass\n",
    "# 1stFlrSF\n",
    "try:\n",
    "    train=train.drop(train.loc[(train['1stFlrSF']>4000)].index,0)\n",
    "except:\n",
    "    pass\n",
    "\n",
    "# GrLivArea\n",
    "try:\n",
    "    train=train.drop(train.loc[(train['GrLivArea']>4000) & (train['SalePrice']<200000)].index,0)\n",
    "except:\n",
    "    pass\n",
    "# GarageArea\n",
    "try:\n",
    "    train=train.drop(train.loc[(train['GarageArea']>1200) & (train['SalePrice']<300000)].index,0)\n",
    "except:\n",
    "    pass    \n",
    "# OpenPorch\n",
    "try:\n",
    "    train=train.drop(train.loc[(train['OpenPorch']>500) & (train['SalePrice']<200000)].index,0)\n",
    "except:\n",
    "    pass\n",
    "\n",
    "\n",
    "train.reset_index(drop=True, inplace=True)\n"
   ]
  },
  {
   "cell_type": "code",
   "execution_count": 30,
   "id": "37f7df18",
   "metadata": {
    "scrolled": true
   },
   "outputs": [
    {
     "name": "stdout",
     "output_type": "stream",
     "text": [
      "<class 'pandas.core.frame.DataFrame'>\n",
      "RangeIndex: 1441 entries, 0 to 1440\n",
      "Data columns (total 70 columns):\n",
      " #   Column         Non-Null Count  Dtype  \n",
      "---  ------         --------------  -----  \n",
      " 0   MSSubClass     1441 non-null   int64  \n",
      " 1   MSZoning       1441 non-null   int64  \n",
      " 2   LotFrontage    1441 non-null   float64\n",
      " 3   LotArea        1441 non-null   int64  \n",
      " 4   Street         1441 non-null   int64  \n",
      " 5   Alley          1441 non-null   int64  \n",
      " 6   LotShape       1441 non-null   int64  \n",
      " 7   LandContour    1441 non-null   int64  \n",
      " 8   Utilities      1441 non-null   int64  \n",
      " 9   LotConfig      1441 non-null   int64  \n",
      " 10  LandSlope      1441 non-null   int64  \n",
      " 11  Neighborhood   1441 non-null   int64  \n",
      " 12  Condition1     1441 non-null   int64  \n",
      " 13  Condition2     1441 non-null   int64  \n",
      " 14  BldgType       1441 non-null   int64  \n",
      " 15  HouseStyle     1441 non-null   int64  \n",
      " 16  OverallQual    1441 non-null   int64  \n",
      " 17  OverallCond    1441 non-null   int64  \n",
      " 18  YearBuilt      1441 non-null   int64  \n",
      " 19  YearRemodAdd   1441 non-null   int64  \n",
      " 20  RoofStyle      1441 non-null   int64  \n",
      " 21  RoofMatl       1441 non-null   int64  \n",
      " 22  Exterior1st    1441 non-null   int64  \n",
      " 23  Exterior2nd    1441 non-null   int64  \n",
      " 24  MasVnrType     1441 non-null   int64  \n",
      " 25  MasVnrArea     1441 non-null   float64\n",
      " 26  ExterQual      1441 non-null   int64  \n",
      " 27  ExterCond      1441 non-null   int64  \n",
      " 28  Foundation     1441 non-null   int64  \n",
      " 29  BsmtQual       1441 non-null   int64  \n",
      " 30  BsmtCond       1441 non-null   int64  \n",
      " 31  BsmtExposure   1441 non-null   int64  \n",
      " 32  BsmtFinType1   1441 non-null   int64  \n",
      " 33  BsmtFinSF1     1441 non-null   int64  \n",
      " 34  BsmtFinType2   1441 non-null   int64  \n",
      " 35  BsmtFinSF2     1441 non-null   int64  \n",
      " 36  BsmtUnfSF      1441 non-null   int64  \n",
      " 37  TotalBsmtSF    1441 non-null   int64  \n",
      " 38  Heating        1441 non-null   int64  \n",
      " 39  HeatingQC      1441 non-null   int64  \n",
      " 40  CentralAir     1441 non-null   int64  \n",
      " 41  Electrical     1441 non-null   int64  \n",
      " 42  1stFlrSF       1441 non-null   int64  \n",
      " 43  2ndFlrSF       1441 non-null   int64  \n",
      " 44  GrLivArea      1441 non-null   int64  \n",
      " 45  BedroomAbvGr   1441 non-null   int64  \n",
      " 46  KitchenQual    1441 non-null   int64  \n",
      " 47  TotRmsAbvGrd   1441 non-null   int64  \n",
      " 48  Functional     1441 non-null   int64  \n",
      " 49  Fireplaces     1441 non-null   int64  \n",
      " 50  FireplaceQu    1441 non-null   int64  \n",
      " 51  GarageType     1441 non-null   int64  \n",
      " 52  GarageFinish   1441 non-null   int64  \n",
      " 53  GarageCars     1441 non-null   int64  \n",
      " 54  GarageArea     1441 non-null   int64  \n",
      " 55  GarageQual     1441 non-null   int64  \n",
      " 56  GarageCond     1441 non-null   int64  \n",
      " 57  PavedDrive     1441 non-null   int64  \n",
      " 58  WoodDeckSF     1441 non-null   int64  \n",
      " 59  OpenPorchSF    1441 non-null   int64  \n",
      " 60  EnclosedPorch  1441 non-null   int64  \n",
      " 61  ScreenPorch    1441 non-null   int64  \n",
      " 62  PoolArea       1441 non-null   int64  \n",
      " 63  PoolQC         1441 non-null   int64  \n",
      " 64  Fence          1441 non-null   int64  \n",
      " 65  MiscFeature    1441 non-null   int64  \n",
      " 66  SaleType       1441 non-null   int64  \n",
      " 67  SaleCondition  1441 non-null   int64  \n",
      " 68  SalePrice      1441 non-null   int64  \n",
      " 69  Bath           1441 non-null   float64\n",
      "dtypes: float64(3), int64(67)\n",
      "memory usage: 788.2 KB\n"
     ]
    }
   ],
   "source": [
    "train.info()"
   ]
  },
  {
   "cell_type": "markdown",
   "id": "369081b0",
   "metadata": {},
   "source": [
    "## Data Normalization for Numeric features\n",
    "\n",
    "In this version i will just divide by the range.\n",
    "For the case of the years variables, I will substract the min year first, because otherwise the final enconding will end with high values I.e. 1988/200 =~ 10"
   ]
  },
  {
   "cell_type": "code",
   "execution_count": 31,
   "id": "cd1b0b08",
   "metadata": {},
   "outputs": [
    {
     "data": {
      "text/plain": [
       "1941.0"
      ]
     },
     "execution_count": 31,
     "metadata": {},
     "output_type": "execute_result"
    }
   ],
   "source": [
    "train['YearBuilt'].min()+(train['YearBuilt'].max()-train['YearBuilt'].min())/2"
   ]
  },
  {
   "cell_type": "code",
   "execution_count": 32,
   "id": "509dedb4",
   "metadata": {},
   "outputs": [],
   "source": [
    "rang_dict = dict()\n",
    "\n",
    "train['YearBuilt'] = train['YearBuilt'] - train['YearBuilt'].min()\n",
    "train['YearRemodAdd'] = train['YearRemodAdd'] - train['YearRemodAdd'].min()\n",
    "test['YearBuilt'] = test['YearBuilt'] - test['YearBuilt'].min()\n",
    "test['YearRemodAdd'] = test['YearRemodAdd'] - test['YearRemodAdd'].min()\n",
    "\n",
    "for column in train.columns.drop('SalePrice'):\n",
    "    rang = train[column].max()-train[column].min()\n",
    "    train[column] = train[column].div(rang)\n",
    "    test[column] = test[column].div(rang) \n",
    "    rang_dict[column] = rang\n",
    "    "
   ]
  },
  {
   "cell_type": "markdown",
   "id": "95fe31e4",
   "metadata": {},
   "source": [
    "## Feature correlation"
   ]
  },
  {
   "cell_type": "code",
   "execution_count": 33,
   "id": "80cdfe31",
   "metadata": {},
   "outputs": [
    {
     "data": {
      "text/plain": [
       "SalePrice       1.00\n",
       "OverallQual     0.80\n",
       "GrLivArea       0.74\n",
       "Neighborhood    0.70\n",
       "ExterQual       0.69\n",
       "KitchenQual     0.66\n",
       "Bath            0.65\n",
       "TotalBsmtSF     0.65\n",
       "GarageCars      0.65\n",
       "GarageArea      0.64\n",
       "1stFlrSF        0.63\n",
       "BsmtQual        0.62\n",
       "GarageFinish    0.55\n",
       "TotRmsAbvGrd    0.54\n",
       "YearBuilt       0.53\n",
       "FireplaceQu     0.52\n",
       "Name: SalePrice, dtype: float64"
      ]
     },
     "execution_count": 33,
     "metadata": {},
     "output_type": "execute_result"
    }
   ],
   "source": [
    "corr = train.corr().sort_values(by='SalePrice',ascending=False).round(2)\n",
    "corr['SalePrice'].head(16)"
   ]
  },
  {
   "cell_type": "code",
   "execution_count": 34,
   "id": "6dd1d811",
   "metadata": {},
   "outputs": [
    {
     "data": {
      "image/png": "[encoded data removed]",
      "text/plain": [
       "<Figure size 1080x1080 with 2 Axes>"
      ]
     },
     "metadata": {},
     "output_type": "display_data"
    }
   ],
   "source": [
    "# heatmap of the 15 most correlated features\n",
    "plt.figure(figsize=(15,15))\n",
    "cols =corr['SalePrice'].head(15).index\n",
    "cm = np.corrcoef(train[cols].values.T)\n",
    "sns.set(font_scale=1)\n",
    "hm = sns.heatmap(cm, annot=True, yticklabels=cols.values, xticklabels=cols.values)\n",
    "plt.show()"
   ]
  },
  {
   "cell_type": "markdown",
   "id": "da89244d",
   "metadata": {},
   "source": [
    "## Most relevant features\n",
    "\n",
    "The most relevant features were obtained from the RLR model, accoding to the weights of each feature.\n",
    "For this features, 2nd 3rd and 4th order powers will be added."
   ]
  },
  {
   "cell_type": "code",
   "execution_count": 35,
   "id": "1c0352c1",
   "metadata": {},
   "outputs": [
    {
     "data": {
      "text/plain": [
       "['OverallQual',\n",
       " 'GrLivArea',\n",
       " 'Neighborhood',\n",
       " 'ExterQual',\n",
       " 'KitchenQual',\n",
       " 'Bath',\n",
       " 'TotalBsmtSF',\n",
       " 'GarageCars',\n",
       " 'GarageArea',\n",
       " '1stFlrSF',\n",
       " 'BsmtQual',\n",
       " 'GarageFinish',\n",
       " 'TotRmsAbvGrd',\n",
       " 'YearBuilt',\n",
       " 'FireplaceQu']"
      ]
     },
     "execution_count": 35,
     "metadata": {},
     "output_type": "execute_result"
    }
   ],
   "source": [
    "mrf = list(corr['SalePrice'].head(16).index)[1:]\n",
    "mrf"
   ]
  },
  {
   "cell_type": "code",
   "execution_count": 36,
   "id": "af25e3b0",
   "metadata": {},
   "outputs": [
    {
     "name": "stderr",
     "output_type": "stream",
     "text": [
      "/tmp/ipykernel_78310/32758031.py:7: PerformanceWarning: DataFrame is highly fragmented.  This is usually the result of calling `frame.insert` many times, which has poor performance.  Consider joining all columns at once using pd.concat(axis=1) instead.  To get a de-fragmented frame, use `newframe = frame.copy()`\n",
      "  test[new_f] = test[feature]**power\n"
     ]
    }
   ],
   "source": [
    "# Adding some powers to the mrf\n",
    "\n",
    "for feature in mrf:\n",
    "    for power in [2,3,4]:\n",
    "        new_f = feature + str(power)\n",
    "        train[new_f] = train[feature]**power\n",
    "        test[new_f] = test[feature]**power\n"
   ]
  },
  {
   "cell_type": "code",
   "execution_count": 37,
   "id": "852087d6",
   "metadata": {},
   "outputs": [
    {
     "data": {
      "text/html": [
       "<div>\n",
       "<style scoped>\n",
       "    .dataframe tbody tr th:only-of-type {\n",
       "        vertical-align: middle;\n",
       "    }\n",
       "\n",
       "    .dataframe tbody tr th {\n",
       "        vertical-align: top;\n",
       "    }\n",
       "\n",
       "    .dataframe thead th {\n",
       "        text-align: right;\n",
       "    }\n",
       "</style>\n",
       "<table border=\"1\" class=\"dataframe\">\n",
       "  <thead>\n",
       "    <tr style=\"text-align: right;\">\n",
       "      <th></th>\n",
       "      <th>MSSubClass</th>\n",
       "      <th>MSZoning</th>\n",
       "      <th>LotFrontage</th>\n",
       "      <th>LotArea</th>\n",
       "      <th>Street</th>\n",
       "      <th>Alley</th>\n",
       "      <th>LotShape</th>\n",
       "      <th>LandContour</th>\n",
       "      <th>Utilities</th>\n",
       "      <th>LotConfig</th>\n",
       "      <th>...</th>\n",
       "      <th>GarageFinish4</th>\n",
       "      <th>TotRmsAbvGrd2</th>\n",
       "      <th>TotRmsAbvGrd3</th>\n",
       "      <th>TotRmsAbvGrd4</th>\n",
       "      <th>YearBuilt2</th>\n",
       "      <th>YearBuilt3</th>\n",
       "      <th>YearBuilt4</th>\n",
       "      <th>FireplaceQu2</th>\n",
       "      <th>FireplaceQu3</th>\n",
       "      <th>FireplaceQu4</th>\n",
       "    </tr>\n",
       "  </thead>\n",
       "  <tbody>\n",
       "    <tr>\n",
       "      <th>0</th>\n",
       "      <td>1.000000</td>\n",
       "      <td>0.75</td>\n",
       "      <td>0.357143</td>\n",
       "      <td>0.121651</td>\n",
       "      <td>1.0</td>\n",
       "      <td>1.0</td>\n",
       "      <td>0.000000</td>\n",
       "      <td>0.333333</td>\n",
       "      <td>1.0</td>\n",
       "      <td>0.00</td>\n",
       "      <td>...</td>\n",
       "      <td>0.197531</td>\n",
       "      <td>0.444444</td>\n",
       "      <td>0.296296</td>\n",
       "      <td>0.197531</td>\n",
       "      <td>0.901124</td>\n",
       "      <td>0.855415</td>\n",
       "      <td>0.812024</td>\n",
       "      <td>0.04</td>\n",
       "      <td>0.008</td>\n",
       "      <td>0.0016</td>\n",
       "    </tr>\n",
       "    <tr>\n",
       "      <th>1</th>\n",
       "      <td>0.785714</td>\n",
       "      <td>0.75</td>\n",
       "      <td>0.439560</td>\n",
       "      <td>0.138207</td>\n",
       "      <td>1.0</td>\n",
       "      <td>1.0</td>\n",
       "      <td>0.000000</td>\n",
       "      <td>0.333333</td>\n",
       "      <td>1.0</td>\n",
       "      <td>0.25</td>\n",
       "      <td>...</td>\n",
       "      <td>0.197531</td>\n",
       "      <td>0.250000</td>\n",
       "      <td>0.125000</td>\n",
       "      <td>0.062500</td>\n",
       "      <td>0.567948</td>\n",
       "      <td>0.428019</td>\n",
       "      <td>0.322565</td>\n",
       "      <td>0.36</td>\n",
       "      <td>0.216</td>\n",
       "      <td>0.1296</td>\n",
       "    </tr>\n",
       "    <tr>\n",
       "      <th>2</th>\n",
       "      <td>1.000000</td>\n",
       "      <td>0.75</td>\n",
       "      <td>0.373626</td>\n",
       "      <td>0.161961</td>\n",
       "      <td>1.0</td>\n",
       "      <td>1.0</td>\n",
       "      <td>0.333333</td>\n",
       "      <td>0.333333</td>\n",
       "      <td>1.0</td>\n",
       "      <td>0.00</td>\n",
       "      <td>...</td>\n",
       "      <td>0.197531</td>\n",
       "      <td>0.250000</td>\n",
       "      <td>0.125000</td>\n",
       "      <td>0.062500</td>\n",
       "      <td>0.873819</td>\n",
       "      <td>0.816830</td>\n",
       "      <td>0.763559</td>\n",
       "      <td>0.36</td>\n",
       "      <td>0.216</td>\n",
       "      <td>0.1296</td>\n",
       "    </tr>\n",
       "    <tr>\n",
       "      <th>3</th>\n",
       "      <td>0.642857</td>\n",
       "      <td>0.75</td>\n",
       "      <td>0.329670</td>\n",
       "      <td>0.137487</td>\n",
       "      <td>1.0</td>\n",
       "      <td>1.0</td>\n",
       "      <td>0.333333</td>\n",
       "      <td>0.333333</td>\n",
       "      <td>1.0</td>\n",
       "      <td>0.50</td>\n",
       "      <td>...</td>\n",
       "      <td>0.012346</td>\n",
       "      <td>0.340278</td>\n",
       "      <td>0.198495</td>\n",
       "      <td>0.115789</td>\n",
       "      <td>0.097091</td>\n",
       "      <td>0.030253</td>\n",
       "      <td>0.009427</td>\n",
       "      <td>0.64</td>\n",
       "      <td>0.512</td>\n",
       "      <td>0.4096</td>\n",
       "    </tr>\n",
       "    <tr>\n",
       "      <th>4</th>\n",
       "      <td>1.000000</td>\n",
       "      <td>0.75</td>\n",
       "      <td>0.461538</td>\n",
       "      <td>0.205295</td>\n",
       "      <td>1.0</td>\n",
       "      <td>1.0</td>\n",
       "      <td>0.333333</td>\n",
       "      <td>0.333333</td>\n",
       "      <td>1.0</td>\n",
       "      <td>0.25</td>\n",
       "      <td>...</td>\n",
       "      <td>0.197531</td>\n",
       "      <td>0.562500</td>\n",
       "      <td>0.421875</td>\n",
       "      <td>0.316406</td>\n",
       "      <td>0.860323</td>\n",
       "      <td>0.797981</td>\n",
       "      <td>0.740156</td>\n",
       "      <td>0.36</td>\n",
       "      <td>0.216</td>\n",
       "      <td>0.1296</td>\n",
       "    </tr>\n",
       "  </tbody>\n",
       "</table>\n",
       "<p>5 rows × 115 columns</p>\n",
       "</div>"
      ],
      "text/plain": [
       "   MSSubClass  MSZoning  LotFrontage   LotArea  Street  Alley  LotShape  \\\n",
       "0    1.000000      0.75     0.357143  0.121651     1.0    1.0  0.000000   \n",
       "1    0.785714      0.75     0.439560  0.138207     1.0    1.0  0.000000   \n",
       "2    1.000000      0.75     0.373626  0.161961     1.0    1.0  0.333333   \n",
       "3    0.642857      0.75     0.329670  0.137487     1.0    1.0  0.333333   \n",
       "4    1.000000      0.75     0.461538  0.205295     1.0    1.0  0.333333   \n",
       "\n",
       "   LandContour  Utilities  LotConfig  ...  GarageFinish4  TotRmsAbvGrd2  \\\n",
       "0     0.333333        1.0       0.00  ...       0.197531       0.444444   \n",
       "1     0.333333        1.0       0.25  ...       0.197531       0.250000   \n",
       "2     0.333333        1.0       0.00  ...       0.197531       0.250000   \n",
       "3     0.333333        1.0       0.50  ...       0.012346       0.340278   \n",
       "4     0.333333        1.0       0.25  ...       0.197531       0.562500   \n",
       "\n",
       "   TotRmsAbvGrd3  TotRmsAbvGrd4  YearBuilt2  YearBuilt3  YearBuilt4  \\\n",
       "0       0.296296       0.197531    0.901124    0.855415    0.812024   \n",
       "1       0.125000       0.062500    0.567948    0.428019    0.322565   \n",
       "2       0.125000       0.062500    0.873819    0.816830    0.763559   \n",
       "3       0.198495       0.115789    0.097091    0.030253    0.009427   \n",
       "4       0.421875       0.316406    0.860323    0.797981    0.740156   \n",
       "\n",
       "   FireplaceQu2  FireplaceQu3  FireplaceQu4  \n",
       "0          0.04         0.008        0.0016  \n",
       "1          0.36         0.216        0.1296  \n",
       "2          0.36         0.216        0.1296  \n",
       "3          0.64         0.512        0.4096  \n",
       "4          0.36         0.216        0.1296  \n",
       "\n",
       "[5 rows x 115 columns]"
      ]
     },
     "execution_count": 37,
     "metadata": {},
     "output_type": "execute_result"
    }
   ],
   "source": [
    "train.head()"
   ]
  },
  {
   "cell_type": "code",
   "execution_count": 38,
   "id": "f2483f36",
   "metadata": {},
   "outputs": [],
   "source": [
    "#train.hist(bins=25, figsize=(20,60), layout=(17,5));"
   ]
  },
  {
   "cell_type": "markdown",
   "id": "090e5204",
   "metadata": {},
   "source": [
    "# Save data"
   ]
  },
  {
   "cell_type": "code",
   "execution_count": 39,
   "id": "8d52b1d8",
   "metadata": {},
   "outputs": [],
   "source": [
    "import json\n",
    "\n",
    "train.to_csv('../data/train_fe_v2.csv')\n",
    "test.to_csv('../data/test_fe_v2.csv')\n",
    "\n",
    "# create json object from dictionary\n",
    "json = json.dumps(rang_dict)\n",
    "\n",
    "# open file for writing, \"w\" \n",
    "f = open(\"rang_dict.json\",\"w\")\n",
    "\n",
    "# write json object to file\n",
    "f.write(json)\n",
    "\n",
    "# close file\n",
    "f.close()\n",
    "\n"
   ]
  },
  {
   "cell_type": "code",
   "execution_count": null,
   "id": "e023cb5b",
   "metadata": {},
   "outputs": [],
   "source": []
  },
  {
   "cell_type": "code",
   "execution_count": null,
   "id": "746d4cab",
   "metadata": {},
   "outputs": [],
   "source": []
  }
 ],
 "metadata": {
  "kernelspec": {
   "display_name": "Python 3 (ipykernel)",
   "language": "python",
   "name": "python3"
  },
  "language_info": {
   "codemirror_mode": {
    "name": "ipython",
    "version": 3
   },
   "file_extension": ".py",
   "mimetype": "text/x-python",
   "name": "python",
   "nbconvert_exporter": "python",
   "pygments_lexer": "ipython3",
   "version": "3.9.7"
  }
 },
 "nbformat": 4,
 "nbformat_minor": 5
}
