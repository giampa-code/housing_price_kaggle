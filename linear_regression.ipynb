{
 "cells": [
  {
   "cell_type": "markdown",
   "id": "f488bec6",
   "metadata": {},
   "source": [
    "# Libraries"
   ]
  },
  {
   "cell_type": "code",
   "execution_count": 15,
   "id": "87890828",
   "metadata": {},
   "outputs": [],
   "source": [
    "import numpy as np\n",
    "import pandas as pd\n",
    "import os\n",
    "\n",
    "from sklearn.model_selection import train_test_split\n",
    "from sklearn.metrics import accuracy_score,r2_score,mean_squared_error,mean_absolute_error,auc,roc_curve,confusion_matrix\n",
    "from sklearn.linear_model import LinearRegression"
   ]
  },
  {
   "cell_type": "code",
   "execution_count": 5,
   "id": "7ce47330",
   "metadata": {},
   "outputs": [],
   "source": [
    "train = pd.read_csv('/home/giampa95/programming/DS/housing_price_kaggle/train_fe.csv')\n",
    "test = pd.read_csv('/home/giampa95/programming/DS/housing_price_kaggle/test_fe.csv')"
   ]
  },
  {
   "cell_type": "markdown",
   "id": "cd0e5417",
   "metadata": {},
   "source": [
    "# Fit model"
   ]
  },
  {
   "cell_type": "markdown",
   "id": "9257cb29",
   "metadata": {},
   "source": [
    "# Define predictors and target"
   ]
  },
  {
   "cell_type": "code",
   "execution_count": 11,
   "id": "981ebd5b",
   "metadata": {},
   "outputs": [],
   "source": [
    "# Converto to numpy\n",
    "x_columns = train.columns.drop('SalePrice')\n",
    "x = train[x_columns].values\n",
    "y = train['SalePrice'].values\n"
   ]
  },
  {
   "cell_type": "markdown",
   "id": "e66019b6",
   "metadata": {},
   "source": [
    "## Split data"
   ]
  },
  {
   "cell_type": "code",
   "execution_count": 12,
   "id": "70dfdf15",
   "metadata": {},
   "outputs": [],
   "source": [
    "# Create train/test\n",
    "x_train, x_test, y_train, y_test = train_test_split(    \n",
    "    x, y, test_size=0.5, random_state=42)"
   ]
  },
  {
   "cell_type": "markdown",
   "id": "30bdc573",
   "metadata": {},
   "source": [
    "# Model"
   ]
  },
  {
   "cell_type": "code",
   "execution_count": 18,
   "id": "56464000",
   "metadata": {},
   "outputs": [
    {
     "data": {
      "text/plain": [
       "LinearRegression()"
      ]
     },
     "execution_count": 18,
     "metadata": {},
     "output_type": "execute_result"
    }
   ],
   "source": [
    "model = LinearRegression()\n",
    "\n",
    "model.fit(x_train,y_train)"
   ]
  },
  {
   "cell_type": "code",
   "execution_count": 21,
   "id": "a93295b1",
   "metadata": {},
   "outputs": [],
   "source": [
    "y_pred = model.predict(x_test)\n",
    "R2 = r2_score(y_test,y_pred)\n",
    "MEA = mean_absolute_error(y_test,y_pred)"
   ]
  },
  {
   "cell_type": "code",
   "execution_count": 22,
   "id": "c5535836",
   "metadata": {},
   "outputs": [
    {
     "name": "stdout",
     "output_type": "stream",
     "text": [
      "R2 = 0.7218498728053236 and MEA = 0.029843630247318356\n"
     ]
    }
   ],
   "source": [
    "print(f'R2 = {R2} and MEA = {MEA}')"
   ]
  },
  {
   "cell_type": "code",
   "execution_count": null,
   "id": "a220515b",
   "metadata": {},
   "outputs": [],
   "source": []
  }
 ],
 "metadata": {
  "kernelspec": {
   "display_name": "Python 3 (ipykernel)",
   "language": "python",
   "name": "python3"
  },
  "language_info": {
   "codemirror_mode": {
    "name": "ipython",
    "version": 3
   },
   "file_extension": ".py",
   "mimetype": "text/x-python",
   "name": "python",
   "nbconvert_exporter": "python",
   "pygments_lexer": "ipython3",
   "version": "3.9.7"
  }
 },
 "nbformat": 4,
 "nbformat_minor": 5
}
